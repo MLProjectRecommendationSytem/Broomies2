{
 "cells": [
  {
   "cell_type": "markdown",
   "metadata": {
    "slideshow": {
     "slide_type": "slide"
    }
   },
   "source": [
    "### Labeling\n",
    "- area(by their destination) :\n",
    "\n",
    "    - 도시(City) : 야경, 관광, 쇼핑(seeing nightlight, walking local street, interesting fashion)\n",
    "    - 자연(Nature) : 바다, 산, 별빛(seeing stars, the seaside, plant-holic, animal-holic)\n",
    "\n",
    "- company(by their traveling purpose) :\n",
    "\n",
    "    - 가족: parents, children,\n",
    "    - 친구: friends\n",
    "    - 혼자: alone, official, etc\n",
    "    - 허니문: honeymoon, partner, lover\n",
    "\n",
    "- interest :\n",
    "\n",
    "    - 지식추구(Kn, Knowledge) : 역사, 궁, 사원, 건축물(history, science)\n",
    "    - 문화예술(Ar, Culture&Art) : 박물관, 미술관(music, museum, art museum)\n",
    "    - 도전(Ad, Adventure) : 캠핑, 하이킹, 스노클링(hiking, extreme sports, snorkeling)\n",
    "    - 체험(Ex, Experience) : 농장투어, 만들기 체험, 크루즈체험, 돌고래(writing, making stuffs)\n",
    "    - 보여주기(Sh, like to showing) : 셀피, 스냅사진(selfie, sanp picture, like to express themselves)\n",
    "    - 음식(Fo, Food-lovers) : 식문화, 맛집, 와인투어(cooking, local food, Michelin et Cie, wine tour)\n",
    "    - 오락(Et, Entertainment) : 카지노"
   ]
  },
  {
   "cell_type": "markdown",
   "metadata": {
    "slideshow": {
     "slide_type": "slide"
    }
   },
   "source": [
    "### 데이터로드 - activity"
   ]
  },
  {
   "cell_type": "code",
   "execution_count": 1,
   "metadata": {},
   "outputs": [],
   "source": [
    "activity = pd.read_csv(\"../DATA/labeled_travel_data_363.csv\", index_col=0).reset_index(drop=True)"
   ]
  },
  {
   "cell_type": "code",
   "execution_count": 2,
   "metadata": {},
   "outputs": [
    {
     "data": {
      "text/html": [
       "<div>\n",
       "<style scoped>\n",
       "    .dataframe tbody tr th:only-of-type {\n",
       "        vertical-align: middle;\n",
       "    }\n",
       "\n",
       "    .dataframe tbody tr th {\n",
       "        vertical-align: top;\n",
       "    }\n",
       "\n",
       "    .dataframe thead th {\n",
       "        text-align: right;\n",
       "    }\n",
       "</style>\n",
       "<table border=\"1\" class=\"dataframe\">\n",
       "  <thead>\n",
       "    <tr style=\"text-align: right;\">\n",
       "      <th></th>\n",
       "      <th>code</th>\n",
       "      <th>country</th>\n",
       "      <th>city_name</th>\n",
       "      <th>score</th>\n",
       "      <th>selling_count</th>\n",
       "      <th>reviews_count</th>\n",
       "      <th>guide_type</th>\n",
       "      <th>title</th>\n",
       "      <th>intro</th>\n",
       "      <th>review</th>\n",
       "      <th>travel_purpose</th>\n",
       "      <th>purpose</th>\n",
       "      <th>age_group</th>\n",
       "      <th>drop</th>\n",
       "      <th>area</th>\n",
       "      <th>company</th>\n",
       "      <th>interest</th>\n",
       "    </tr>\n",
       "  </thead>\n",
       "  <tbody>\n",
       "    <tr>\n",
       "      <td>0</td>\n",
       "      <td>2122</td>\n",
       "      <td>Netherlands</td>\n",
       "      <td>Amsterdam</td>\n",
       "      <td>4.73</td>\n",
       "      <td>231</td>\n",
       "      <td>84</td>\n",
       "      <td>가이드 투어</td>\n",
       "      <td>국립박물관과 고흐 미술관  대표작 설명</td>\n",
       "      <td>국립박물관은 렘브란트(Rermbrandt)의 대표작 '야경꾼'을 전시하기 위한 목적...</td>\n",
       "      <td>좋긴 좋았습니다. 가이드님이 없었으면 중요 작품들이 무엇인지 알지 못했으니까요. 하...</td>\n",
       "      <td>{'purpose': 'etc', 'age_group': '30'}</td>\n",
       "      <td>etc</td>\n",
       "      <td>30</td>\n",
       "      <td>N</td>\n",
       "      <td>도시</td>\n",
       "      <td>혼자</td>\n",
       "      <td>Ar</td>\n",
       "    </tr>\n",
       "    <tr>\n",
       "      <td>1</td>\n",
       "      <td>1474</td>\n",
       "      <td>Netherlands</td>\n",
       "      <td>Amsterdam</td>\n",
       "      <td>4.61</td>\n",
       "      <td>160</td>\n",
       "      <td>49</td>\n",
       "      <td>가이드 투어</td>\n",
       "      <td>암스테르담 시내 워킹투어</td>\n",
       "      <td>암스테르담은 네덜란드의 수도로서 운치와 분위기가 있는 도시입니다.그럼에도 불구하고 ...</td>\n",
       "      <td>두명이서 다녔는데 시간을 알차게 계획하시구 또 전문성있게 잘 설명해주셔서 재밌었습니...</td>\n",
       "      <td>{'purpose': 'official', 'age_group': '30'}</td>\n",
       "      <td>official</td>\n",
       "      <td>30</td>\n",
       "      <td>N</td>\n",
       "      <td>도시</td>\n",
       "      <td>혼자</td>\n",
       "      <td>Ex</td>\n",
       "    </tr>\n",
       "  </tbody>\n",
       "</table>\n",
       "</div>"
      ],
      "text/plain": [
       "   code      country  city_name  score  selling_count  reviews_count  \\\n",
       "0  2122  Netherlands  Amsterdam   4.73            231             84   \n",
       "1  1474  Netherlands  Amsterdam   4.61            160             49   \n",
       "\n",
       "  guide_type                  title  \\\n",
       "0     가이드 투어  국립박물관과 고흐 미술관  대표작 설명   \n",
       "1     가이드 투어          암스테르담 시내 워킹투어   \n",
       "\n",
       "                                               intro  \\\n",
       "0  국립박물관은 렘브란트(Rermbrandt)의 대표작 '야경꾼'을 전시하기 위한 목적...   \n",
       "1  암스테르담은 네덜란드의 수도로서 운치와 분위기가 있는 도시입니다.그럼에도 불구하고 ...   \n",
       "\n",
       "                                              review  \\\n",
       "0  좋긴 좋았습니다. 가이드님이 없었으면 중요 작품들이 무엇인지 알지 못했으니까요. 하...   \n",
       "1  두명이서 다녔는데 시간을 알차게 계획하시구 또 전문성있게 잘 설명해주셔서 재밌었습니...   \n",
       "\n",
       "                               travel_purpose   purpose  age_group drop area  \\\n",
       "0       {'purpose': 'etc', 'age_group': '30'}       etc         30    N   도시   \n",
       "1  {'purpose': 'official', 'age_group': '30'}  official         30    N   도시   \n",
       "\n",
       "  company interest  \n",
       "0      혼자       Ar  \n",
       "1      혼자       Ex  "
      ]
     },
     "execution_count": 2,
     "metadata": {},
     "output_type": "execute_result"
    }
   ],
   "source": [
    "activity.head(2)"
   ]
  },
  {
   "cell_type": "code",
   "execution_count": 3,
   "metadata": {
    "slideshow": {
     "slide_type": "slide"
    }
   },
   "outputs": [],
   "source": [
    "activity['label'] = 2"
   ]
  },
  {
   "cell_type": "code",
   "execution_count": 4,
   "metadata": {},
   "outputs": [],
   "source": [
    "df_activity = activity[['label', 'code', 'title', 'intro', 'review', 'area', 'company', 'interest']]"
   ]
  },
  {
   "cell_type": "code",
   "execution_count": 5,
   "metadata": {},
   "outputs": [
    {
     "name": "stderr",
     "output_type": "stream",
     "text": [
      "C:\\Users\\shine\\Anaconda3\\lib\\site-packages\\ipykernel_launcher.py:1: SettingWithCopyWarning: \n",
      "A value is trying to be set on a copy of a slice from a DataFrame.\n",
      "Try using .loc[row_indexer,col_indexer] = value instead\n",
      "\n",
      "See the caveats in the documentation: http://pandas.pydata.org/pandas-docs/stable/user_guide/indexing.html#returning-a-view-versus-a-copy\n",
      "  \"\"\"Entry point for launching an IPython kernel.\n"
     ]
    }
   ],
   "source": [
    "df_activity['corpus'] = df_activity['intro'] + df_activity['review']"
   ]
  },
  {
   "cell_type": "code",
   "execution_count": 6,
   "metadata": {},
   "outputs": [],
   "source": [
    "df_activity = df_activity[['label', 'code', 'title', 'corpus', 'area', 'company', 'interest']]"
   ]
  },
  {
   "cell_type": "markdown",
   "metadata": {
    "slideshow": {
     "slide_type": "slide"
    }
   },
   "source": [
    "### 데이터 로드 -  book"
   ]
  },
  {
   "cell_type": "code",
   "execution_count": 7,
   "metadata": {},
   "outputs": [],
   "source": [
    "keyword_book = pd.read_csv(\"../DATA/total_keyword_book.csv\", index_col=0)\n",
    "keyword_book2 = keyword_book[['ISBN', 'new_keyword', 'new_subject']]"
   ]
  },
  {
   "cell_type": "code",
   "execution_count": 8,
   "metadata": {
    "slideshow": {
     "slide_type": "slide"
    }
   },
   "outputs": [
    {
     "data": {
      "text/html": [
       "<div>\n",
       "<style scoped>\n",
       "    .dataframe tbody tr th:only-of-type {\n",
       "        vertical-align: middle;\n",
       "    }\n",
       "\n",
       "    .dataframe tbody tr th {\n",
       "        vertical-align: top;\n",
       "    }\n",
       "\n",
       "    .dataframe thead th {\n",
       "        text-align: right;\n",
       "    }\n",
       "</style>\n",
       "<table border=\"1\" class=\"dataframe\">\n",
       "  <thead>\n",
       "    <tr style=\"text-align: right;\">\n",
       "      <th></th>\n",
       "      <th>ISBN</th>\n",
       "      <th>title</th>\n",
       "      <th>corpus</th>\n",
       "      <th>area</th>\n",
       "      <th>company</th>\n",
       "      <th>interest</th>\n",
       "      <th>comment</th>\n",
       "    </tr>\n",
       "  </thead>\n",
       "  <tbody>\n",
       "    <tr>\n",
       "      <td>0</td>\n",
       "      <td>9.788957e+12</td>\n",
       "      <td>종의 기원</td>\n",
       "      <td>펴내는 작품마다 압도적인 서사와 폭발적인 이야기의 힘으로 많은 독자들의 뜨거운 사랑...</td>\n",
       "      <td>자연</td>\n",
       "      <td>혼자</td>\n",
       "      <td>Kn</td>\n",
       "      <td>NaN</td>\n",
       "    </tr>\n",
       "    <tr>\n",
       "      <td>1</td>\n",
       "      <td>9.788936e+12</td>\n",
       "      <td>알로하, 나의 엄마들</td>\n",
       "      <td>따스한 손길로 마음을 어루만지는 이 시대 선한 이야기꾼 이금이 작가의 장편소설 『알...</td>\n",
       "      <td>자연</td>\n",
       "      <td>가족</td>\n",
       "      <td>Kn</td>\n",
       "      <td>NaN</td>\n",
       "    </tr>\n",
       "    <tr>\n",
       "      <td>2</td>\n",
       "      <td>9.788937e+12</td>\n",
       "      <td>싯다르타</td>\n",
       "      <td>'수레바퀴 아래서', '데미안' 등으로 우리에게 친숙한 헤르만 헤세의 소설. 유복한...</td>\n",
       "      <td>자연</td>\n",
       "      <td>가족</td>\n",
       "      <td>Ar</td>\n",
       "      <td>NaN</td>\n",
       "    </tr>\n",
       "    <tr>\n",
       "      <td>3</td>\n",
       "      <td>9.788937e+12</td>\n",
       "      <td>노인과 바다</td>\n",
       "      <td>미국 현대 문학의 개척자라 불리는 어니스트 헤밍웨이의 대표작 『노인과 바다』. 퓰리...</td>\n",
       "      <td>자연</td>\n",
       "      <td>친구</td>\n",
       "      <td>Ar</td>\n",
       "      <td>NaN</td>\n",
       "    </tr>\n",
       "    <tr>\n",
       "      <td>4</td>\n",
       "      <td>9.788987e+12</td>\n",
       "      <td>왜 나는 너를 사랑하는가</td>\n",
       "      <td>인류의 역사와 함께 하는 사랑의 딜레마를 현대적인 방법으로 풀어낸 책. 작가는 1인...</td>\n",
       "      <td>자연</td>\n",
       "      <td>친구</td>\n",
       "      <td>Ex</td>\n",
       "      <td>NaN</td>\n",
       "    </tr>\n",
       "    <tr>\n",
       "      <td>...</td>\n",
       "      <td>...</td>\n",
       "      <td>...</td>\n",
       "      <td>...</td>\n",
       "      <td>...</td>\n",
       "      <td>...</td>\n",
       "      <td>...</td>\n",
       "      <td>...</td>\n",
       "    </tr>\n",
       "    <tr>\n",
       "      <td>412</td>\n",
       "      <td>9.788935e+12</td>\n",
       "      <td>팩트풀니스</td>\n",
       "      <td>전 세계적으로 확증편향이 기승을 부리는 탈진실의 시대에, 막연한 두려움과 편견을 이...</td>\n",
       "      <td>도시</td>\n",
       "      <td>혼자</td>\n",
       "      <td>Ex</td>\n",
       "      <td>NaN</td>\n",
       "    </tr>\n",
       "    <tr>\n",
       "      <td>413</td>\n",
       "      <td>9.791190e+12</td>\n",
       "      <td>지적 대화를 위한 넓고 얕은 지식: 제로 편</td>\n",
       "      <td>인문 분야 국내 작가로는 드물게 200만 부라는 더블 밀리언셀러를 기록한 작가, 출...</td>\n",
       "      <td>도시</td>\n",
       "      <td>혼자</td>\n",
       "      <td>Kn</td>\n",
       "      <td>NaN</td>\n",
       "    </tr>\n",
       "    <tr>\n",
       "      <td>414</td>\n",
       "      <td>9.791131e+12</td>\n",
       "      <td>내가 원하는 것을 나도 모를 때</td>\n",
       "      <td>왠지 자꾸만 마음이 쓸쓸하고 허무할 때가 있다. 지금 제대로 살고 있는 건지 앞으로...</td>\n",
       "      <td>도시</td>\n",
       "      <td>혼자</td>\n",
       "      <td>Ex</td>\n",
       "      <td>NaN</td>\n",
       "    </tr>\n",
       "    <tr>\n",
       "      <td>415</td>\n",
       "      <td>9.788935e+12</td>\n",
       "      <td>사피엔스</td>\n",
       "      <td>지금으로부터 10만 년 전, 지구에는 호모 사피엔스뿐만 아니라 네안데르탈인, 호모 ...</td>\n",
       "      <td>도시</td>\n",
       "      <td>혼자</td>\n",
       "      <td>Kn</td>\n",
       "      <td>NaN</td>\n",
       "    </tr>\n",
       "    <tr>\n",
       "      <td>416</td>\n",
       "      <td>9.788966e+12</td>\n",
       "      <td>당신이 옳다(교보문고 단독 리커버)(찰스 장 아트 에디션)</td>\n",
       "      <td>30여 년간 정신과 의사로 활동하며 1만2천여 명의 속마음을 듣고 나누었고, 《당신...</td>\n",
       "      <td>도시</td>\n",
       "      <td>혼자</td>\n",
       "      <td>Sh</td>\n",
       "      <td>NaN</td>\n",
       "    </tr>\n",
       "  </tbody>\n",
       "</table>\n",
       "<p>417 rows × 7 columns</p>\n",
       "</div>"
      ],
      "text/plain": [
       "             ISBN                             title  \\\n",
       "0    9.788957e+12                             종의 기원   \n",
       "1    9.788936e+12                       알로하, 나의 엄마들   \n",
       "2    9.788937e+12                              싯다르타   \n",
       "3    9.788937e+12                            노인과 바다   \n",
       "4    9.788987e+12                     왜 나는 너를 사랑하는가   \n",
       "..            ...                               ...   \n",
       "412  9.788935e+12                             팩트풀니스   \n",
       "413  9.791190e+12          지적 대화를 위한 넓고 얕은 지식: 제로 편   \n",
       "414  9.791131e+12                 내가 원하는 것을 나도 모를 때   \n",
       "415  9.788935e+12                              사피엔스   \n",
       "416  9.788966e+12  당신이 옳다(교보문고 단독 리커버)(찰스 장 아트 에디션)   \n",
       "\n",
       "                                                corpus area company interest  \\\n",
       "0    펴내는 작품마다 압도적인 서사와 폭발적인 이야기의 힘으로 많은 독자들의 뜨거운 사랑...   자연      혼자       Kn   \n",
       "1    따스한 손길로 마음을 어루만지는 이 시대 선한 이야기꾼 이금이 작가의 장편소설 『알...   자연      가족       Kn   \n",
       "2    '수레바퀴 아래서', '데미안' 등으로 우리에게 친숙한 헤르만 헤세의 소설. 유복한...   자연      가족       Ar   \n",
       "3    미국 현대 문학의 개척자라 불리는 어니스트 헤밍웨이의 대표작 『노인과 바다』. 퓰리...   자연      친구       Ar   \n",
       "4    인류의 역사와 함께 하는 사랑의 딜레마를 현대적인 방법으로 풀어낸 책. 작가는 1인...   자연      친구       Ex   \n",
       "..                                                 ...  ...     ...      ...   \n",
       "412  전 세계적으로 확증편향이 기승을 부리는 탈진실의 시대에, 막연한 두려움과 편견을 이...   도시      혼자       Ex   \n",
       "413  인문 분야 국내 작가로는 드물게 200만 부라는 더블 밀리언셀러를 기록한 작가, 출...   도시      혼자       Kn   \n",
       "414  왠지 자꾸만 마음이 쓸쓸하고 허무할 때가 있다. 지금 제대로 살고 있는 건지 앞으로...   도시      혼자       Ex   \n",
       "415  지금으로부터 10만 년 전, 지구에는 호모 사피엔스뿐만 아니라 네안데르탈인, 호모 ...   도시      혼자       Kn   \n",
       "416  30여 년간 정신과 의사로 활동하며 1만2천여 명의 속마음을 듣고 나누었고, 《당신...   도시      혼자       Sh   \n",
       "\n",
       "    comment  \n",
       "0       NaN  \n",
       "1       NaN  \n",
       "2       NaN  \n",
       "3       NaN  \n",
       "4       NaN  \n",
       "..      ...  \n",
       "412     NaN  \n",
       "413     NaN  \n",
       "414     NaN  \n",
       "415     NaN  \n",
       "416     NaN  \n",
       "\n",
       "[417 rows x 7 columns]"
      ]
     },
     "execution_count": 8,
     "metadata": {},
     "output_type": "execute_result"
    }
   ],
   "source": [
    "book = pd.read_csv(\"../DATA/book_01_03_15_05_update.csv\", index_col=0).reset_index(drop=True)\n",
    "book"
   ]
  },
  {
   "cell_type": "code",
   "execution_count": 9,
   "metadata": {
    "slideshow": {
     "slide_type": "slide"
    }
   },
   "outputs": [],
   "source": [
    "df_book = pd.merge(book,keyword_book2, on='ISBN', how='inner')"
   ]
  },
  {
   "cell_type": "code",
   "execution_count": 10,
   "metadata": {},
   "outputs": [],
   "source": [
    "df_book['code'] = df_book['ISBN']\n",
    "df_book['label'] = 1"
   ]
  },
  {
   "cell_type": "code",
   "execution_count": 11,
   "metadata": {
    "slideshow": {
     "slide_type": "slide"
    }
   },
   "outputs": [
    {
     "data": {
      "text/html": [
       "<div>\n",
       "<style scoped>\n",
       "    .dataframe tbody tr th:only-of-type {\n",
       "        vertical-align: middle;\n",
       "    }\n",
       "\n",
       "    .dataframe tbody tr th {\n",
       "        vertical-align: top;\n",
       "    }\n",
       "\n",
       "    .dataframe thead th {\n",
       "        text-align: right;\n",
       "    }\n",
       "</style>\n",
       "<table border=\"1\" class=\"dataframe\">\n",
       "  <thead>\n",
       "    <tr style=\"text-align: right;\">\n",
       "      <th></th>\n",
       "      <th>ISBN</th>\n",
       "      <th>title</th>\n",
       "      <th>corpus</th>\n",
       "      <th>area</th>\n",
       "      <th>company</th>\n",
       "      <th>interest</th>\n",
       "      <th>comment</th>\n",
       "      <th>new_keyword</th>\n",
       "      <th>new_subject</th>\n",
       "      <th>code</th>\n",
       "      <th>label</th>\n",
       "    </tr>\n",
       "  </thead>\n",
       "  <tbody>\n",
       "    <tr>\n",
       "      <td>0</td>\n",
       "      <td>9.788957e+12</td>\n",
       "      <td>종의 기원</td>\n",
       "      <td>펴내는 작품마다 압도적인 서사와 폭발적인 이야기의 힘으로 많은 독자들의 뜨거운 사랑...</td>\n",
       "      <td>자연</td>\n",
       "      <td>혼자</td>\n",
       "      <td>Kn</td>\n",
       "      <td>NaN</td>\n",
       "      <td>인간본성 어머니 작가 한국소설 본성 유진</td>\n",
       "      <td>살인자 인간본성 악인</td>\n",
       "      <td>9.788957e+12</td>\n",
       "      <td>1</td>\n",
       "    </tr>\n",
       "    <tr>\n",
       "      <td>1</td>\n",
       "      <td>9.788936e+12</td>\n",
       "      <td>알로하, 나의 엄마들</td>\n",
       "      <td>따스한 손길로 마음을 어루만지는 이 시대 선한 이야기꾼 이금이 작가의 장편소설 『알...</td>\n",
       "      <td>자연</td>\n",
       "      <td>가족</td>\n",
       "      <td>Kn</td>\n",
       "      <td>NaN</td>\n",
       "      <td>가족 여성 청소년소설 한국소설 장편소설 여성서사</td>\n",
       "      <td>한국소설 청소년소설 여성서사 일제강점기 근현대사 가족 여성 엄마</td>\n",
       "      <td>9.788936e+12</td>\n",
       "      <td>1</td>\n",
       "    </tr>\n",
       "    <tr>\n",
       "      <td>2</td>\n",
       "      <td>9.788937e+12</td>\n",
       "      <td>싯다르타</td>\n",
       "      <td>'수레바퀴 아래서', '데미안' 등으로 우리에게 친숙한 헤르만 헤세의 소설. 유복한...</td>\n",
       "      <td>자연</td>\n",
       "      <td>가족</td>\n",
       "      <td>Ar</td>\n",
       "      <td>NaN</td>\n",
       "      <td>성장소설 데미안 사문 바라문 뱃사공 타마</td>\n",
       "      <td>성장소설</td>\n",
       "      <td>9.788937e+12</td>\n",
       "      <td>1</td>\n",
       "    </tr>\n",
       "    <tr>\n",
       "      <td>3</td>\n",
       "      <td>9.788937e+12</td>\n",
       "      <td>노인과 바다</td>\n",
       "      <td>미국 현대 문학의 개척자라 불리는 어니스트 헤밍웨이의 대표작 『노인과 바다』. 퓰리...</td>\n",
       "      <td>자연</td>\n",
       "      <td>친구</td>\n",
       "      <td>Ar</td>\n",
       "      <td>NaN</td>\n",
       "      <td>미국소설 노벨문학상 퓰리처상 실존철학 마지막소설 미국현대문학</td>\n",
       "      <td>퓰리처상 미국현대문학 미국소설 노벨문학상</td>\n",
       "      <td>9.788937e+12</td>\n",
       "      <td>1</td>\n",
       "    </tr>\n",
       "    <tr>\n",
       "      <td>4</td>\n",
       "      <td>9.788987e+12</td>\n",
       "      <td>왜 나는 너를 사랑하는가</td>\n",
       "      <td>인류의 역사와 함께 하는 사랑의 딜레마를 현대적인 방법으로 풀어낸 책. 작가는 1인...</td>\n",
       "      <td>자연</td>\n",
       "      <td>친구</td>\n",
       "      <td>Ex</td>\n",
       "      <td>NaN</td>\n",
       "      <td>사랑 연애 러브스토리 낭만 연인 실연</td>\n",
       "      <td>사랑 연애</td>\n",
       "      <td>9.788987e+12</td>\n",
       "      <td>1</td>\n",
       "    </tr>\n",
       "    <tr>\n",
       "      <td>...</td>\n",
       "      <td>...</td>\n",
       "      <td>...</td>\n",
       "      <td>...</td>\n",
       "      <td>...</td>\n",
       "      <td>...</td>\n",
       "      <td>...</td>\n",
       "      <td>...</td>\n",
       "      <td>...</td>\n",
       "      <td>...</td>\n",
       "      <td>...</td>\n",
       "      <td>...</td>\n",
       "    </tr>\n",
       "    <tr>\n",
       "      <td>412</td>\n",
       "      <td>9.788935e+12</td>\n",
       "      <td>팩트풀니스</td>\n",
       "      <td>전 세계적으로 확증편향이 기승을 부리는 탈진실의 시대에, 막연한 두려움과 편견을 이...</td>\n",
       "      <td>도시</td>\n",
       "      <td>혼자</td>\n",
       "      <td>Ex</td>\n",
       "      <td>NaN</td>\n",
       "      <td>편견 데이터 통계 언론 침팬지 자연재해</td>\n",
       "      <td>사실충실성 탈진실 편견</td>\n",
       "      <td>9.788935e+12</td>\n",
       "      <td>1</td>\n",
       "    </tr>\n",
       "    <tr>\n",
       "      <td>413</td>\n",
       "      <td>9.791190e+12</td>\n",
       "      <td>지적 대화를 위한 넓고 얕은 지식: 제로 편</td>\n",
       "      <td>인문 분야 국내 작가로는 드물게 200만 부라는 더블 밀리언셀러를 기록한 작가, 출...</td>\n",
       "      <td>도시</td>\n",
       "      <td>혼자</td>\n",
       "      <td>Kn</td>\n",
       "      <td>NaN</td>\n",
       "      <td>밀리언셀러 인문교양 우파니샤드 인문사회 제로 파편</td>\n",
       "      <td>인문사회 인문교양 지대넓얕</td>\n",
       "      <td>9.791190e+12</td>\n",
       "      <td>1</td>\n",
       "    </tr>\n",
       "    <tr>\n",
       "      <td>414</td>\n",
       "      <td>9.791131e+12</td>\n",
       "      <td>내가 원하는 것을 나도 모를 때</td>\n",
       "      <td>왠지 자꾸만 마음이 쓸쓸하고 허무할 때가 있다. 지금 제대로 살고 있는 건지 앞으로...</td>\n",
       "      <td>도시</td>\n",
       "      <td>혼자</td>\n",
       "      <td>Ex</td>\n",
       "      <td>NaN</td>\n",
       "      <td>문장 위로 소녀시대 태연 무기력 공감</td>\n",
       "      <td>좋은글귀 공감 위로</td>\n",
       "      <td>9.791131e+12</td>\n",
       "      <td>1</td>\n",
       "    </tr>\n",
       "    <tr>\n",
       "      <td>415</td>\n",
       "      <td>9.788935e+12</td>\n",
       "      <td>사피엔스</td>\n",
       "      <td>지금으로부터 10만 년 전, 지구에는 호모 사피엔스뿐만 아니라 네안데르탈인, 호모 ...</td>\n",
       "      <td>도시</td>\n",
       "      <td>혼자</td>\n",
       "      <td>Kn</td>\n",
       "      <td>NaN</td>\n",
       "      <td>호모사피엔스 인류학 과학혁명 인류문명 네안데르탈인 지적설계</td>\n",
       "      <td>인류학 인류문명 인지혁명 농업혁명 과학혁명</td>\n",
       "      <td>9.788935e+12</td>\n",
       "      <td>1</td>\n",
       "    </tr>\n",
       "    <tr>\n",
       "      <td>416</td>\n",
       "      <td>9.788966e+12</td>\n",
       "      <td>당신이 옳다(교보문고 단독 리커버)(찰스 장 아트 에디션)</td>\n",
       "      <td>30여 년간 정신과 의사로 활동하며 1만2천여 명의 속마음을 듣고 나누었고, 《당신...</td>\n",
       "      <td>도시</td>\n",
       "      <td>혼자</td>\n",
       "      <td>Sh</td>\n",
       "      <td>NaN</td>\n",
       "      <td>치유 공감 심리치유 심리 피해자 기근</td>\n",
       "      <td>심리치유 심리적CPR 행동지침 공감</td>\n",
       "      <td>9.788966e+12</td>\n",
       "      <td>1</td>\n",
       "    </tr>\n",
       "  </tbody>\n",
       "</table>\n",
       "<p>417 rows × 11 columns</p>\n",
       "</div>"
      ],
      "text/plain": [
       "             ISBN                             title  \\\n",
       "0    9.788957e+12                             종의 기원   \n",
       "1    9.788936e+12                       알로하, 나의 엄마들   \n",
       "2    9.788937e+12                              싯다르타   \n",
       "3    9.788937e+12                            노인과 바다   \n",
       "4    9.788987e+12                     왜 나는 너를 사랑하는가   \n",
       "..            ...                               ...   \n",
       "412  9.788935e+12                             팩트풀니스   \n",
       "413  9.791190e+12          지적 대화를 위한 넓고 얕은 지식: 제로 편   \n",
       "414  9.791131e+12                 내가 원하는 것을 나도 모를 때   \n",
       "415  9.788935e+12                              사피엔스   \n",
       "416  9.788966e+12  당신이 옳다(교보문고 단독 리커버)(찰스 장 아트 에디션)   \n",
       "\n",
       "                                                corpus area company interest  \\\n",
       "0    펴내는 작품마다 압도적인 서사와 폭발적인 이야기의 힘으로 많은 독자들의 뜨거운 사랑...   자연      혼자       Kn   \n",
       "1    따스한 손길로 마음을 어루만지는 이 시대 선한 이야기꾼 이금이 작가의 장편소설 『알...   자연      가족       Kn   \n",
       "2    '수레바퀴 아래서', '데미안' 등으로 우리에게 친숙한 헤르만 헤세의 소설. 유복한...   자연      가족       Ar   \n",
       "3    미국 현대 문학의 개척자라 불리는 어니스트 헤밍웨이의 대표작 『노인과 바다』. 퓰리...   자연      친구       Ar   \n",
       "4    인류의 역사와 함께 하는 사랑의 딜레마를 현대적인 방법으로 풀어낸 책. 작가는 1인...   자연      친구       Ex   \n",
       "..                                                 ...  ...     ...      ...   \n",
       "412  전 세계적으로 확증편향이 기승을 부리는 탈진실의 시대에, 막연한 두려움과 편견을 이...   도시      혼자       Ex   \n",
       "413  인문 분야 국내 작가로는 드물게 200만 부라는 더블 밀리언셀러를 기록한 작가, 출...   도시      혼자       Kn   \n",
       "414  왠지 자꾸만 마음이 쓸쓸하고 허무할 때가 있다. 지금 제대로 살고 있는 건지 앞으로...   도시      혼자       Ex   \n",
       "415  지금으로부터 10만 년 전, 지구에는 호모 사피엔스뿐만 아니라 네안데르탈인, 호모 ...   도시      혼자       Kn   \n",
       "416  30여 년간 정신과 의사로 활동하며 1만2천여 명의 속마음을 듣고 나누었고, 《당신...   도시      혼자       Sh   \n",
       "\n",
       "    comment                        new_keyword  \\\n",
       "0       NaN             인간본성 어머니 작가 한국소설 본성 유진   \n",
       "1       NaN         가족 여성 청소년소설 한국소설 장편소설 여성서사   \n",
       "2       NaN             성장소설 데미안 사문 바라문 뱃사공 타마   \n",
       "3       NaN  미국소설 노벨문학상 퓰리처상 실존철학 마지막소설 미국현대문학   \n",
       "4       NaN               사랑 연애 러브스토리 낭만 연인 실연   \n",
       "..      ...                                ...   \n",
       "412     NaN              편견 데이터 통계 언론 침팬지 자연재해   \n",
       "413     NaN        밀리언셀러 인문교양 우파니샤드 인문사회 제로 파편   \n",
       "414     NaN               문장 위로 소녀시대 태연 무기력 공감   \n",
       "415     NaN   호모사피엔스 인류학 과학혁명 인류문명 네안데르탈인 지적설계   \n",
       "416     NaN               치유 공감 심리치유 심리 피해자 기근   \n",
       "\n",
       "                             new_subject          code  label  \n",
       "0                            살인자 인간본성 악인  9.788957e+12      1  \n",
       "1    한국소설 청소년소설 여성서사 일제강점기 근현대사 가족 여성 엄마  9.788936e+12      1  \n",
       "2                                   성장소설  9.788937e+12      1  \n",
       "3                 퓰리처상 미국현대문학 미국소설 노벨문학상  9.788937e+12      1  \n",
       "4                                  사랑 연애  9.788987e+12      1  \n",
       "..                                   ...           ...    ...  \n",
       "412                         사실충실성 탈진실 편견  9.788935e+12      1  \n",
       "413                       인문사회 인문교양 지대넓얕  9.791190e+12      1  \n",
       "414                           좋은글귀 공감 위로  9.791131e+12      1  \n",
       "415              인류학 인류문명 인지혁명 농업혁명 과학혁명  9.788935e+12      1  \n",
       "416                  심리치유 심리적CPR 행동지침 공감  9.788966e+12      1  \n",
       "\n",
       "[417 rows x 11 columns]"
      ]
     },
     "execution_count": 11,
     "metadata": {},
     "output_type": "execute_result"
    }
   ],
   "source": [
    "df_book"
   ]
  },
  {
   "cell_type": "code",
   "execution_count": 12,
   "metadata": {
    "slideshow": {
     "slide_type": "slide"
    }
   },
   "outputs": [],
   "source": [
    "df_book2 = df_book[['label', 'code', 'title','corpus', 'area', 'company', 'interest']]"
   ]
  },
  {
   "cell_type": "markdown",
   "metadata": {
    "slideshow": {
     "slide_type": "slide"
    }
   },
   "source": [
    "### 데이터 합치기"
   ]
  },
  {
   "cell_type": "code",
   "execution_count": 13,
   "metadata": {
    "slideshow": {
     "slide_type": "-"
    }
   },
   "outputs": [
    {
     "data": {
      "text/html": [
       "<div>\n",
       "<style scoped>\n",
       "    .dataframe tbody tr th:only-of-type {\n",
       "        vertical-align: middle;\n",
       "    }\n",
       "\n",
       "    .dataframe tbody tr th {\n",
       "        vertical-align: top;\n",
       "    }\n",
       "\n",
       "    .dataframe thead th {\n",
       "        text-align: right;\n",
       "    }\n",
       "</style>\n",
       "<table border=\"1\" class=\"dataframe\">\n",
       "  <thead>\n",
       "    <tr style=\"text-align: right;\">\n",
       "      <th></th>\n",
       "      <th>label</th>\n",
       "      <th>code</th>\n",
       "      <th>title</th>\n",
       "      <th>corpus</th>\n",
       "      <th>area</th>\n",
       "      <th>company</th>\n",
       "      <th>interest</th>\n",
       "    </tr>\n",
       "  </thead>\n",
       "  <tbody>\n",
       "    <tr>\n",
       "      <td>0</td>\n",
       "      <td>2</td>\n",
       "      <td>2.122000e+03</td>\n",
       "      <td>국립박물관과 고흐 미술관  대표작 설명</td>\n",
       "      <td>국립박물관은 렘브란트(Rermbrandt)의 대표작 '야경꾼'을 전시하기 위한 목적...</td>\n",
       "      <td>도시</td>\n",
       "      <td>혼자</td>\n",
       "      <td>Ar</td>\n",
       "    </tr>\n",
       "    <tr>\n",
       "      <td>1</td>\n",
       "      <td>2</td>\n",
       "      <td>1.474000e+03</td>\n",
       "      <td>암스테르담 시내 워킹투어</td>\n",
       "      <td>암스테르담은 네덜란드의 수도로서 운치와 분위기가 있는 도시입니다.그럼에도 불구하고 ...</td>\n",
       "      <td>도시</td>\n",
       "      <td>혼자</td>\n",
       "      <td>Ex</td>\n",
       "    </tr>\n",
       "    <tr>\n",
       "      <td>2</td>\n",
       "      <td>2</td>\n",
       "      <td>3.470000e+04</td>\n",
       "      <td>네덜란드 암스테르담 시내  실속 워킹투어</td>\n",
       "      <td>암스테르담을 실속있게 둘러볼 수 있는 투어입니다. 레이오버로 암스테르담에 잠깐 들...</td>\n",
       "      <td>도시</td>\n",
       "      <td>허니문</td>\n",
       "      <td>Ar</td>\n",
       "    </tr>\n",
       "    <tr>\n",
       "      <td>3</td>\n",
       "      <td>2</td>\n",
       "      <td>4.600000e+02</td>\n",
       "      <td>히트호른, 폴른담, 풍차마을</td>\n",
       "      <td>작은 베네치아라는 별명을 가진 히트호른 마을과 네덜란드에서 가장 아름다운 전통의상을...</td>\n",
       "      <td>자연</td>\n",
       "      <td>친구</td>\n",
       "      <td>Ex</td>\n",
       "    </tr>\n",
       "    <tr>\n",
       "      <td>4</td>\n",
       "      <td>2</td>\n",
       "      <td>8.693000e+03</td>\n",
       "      <td>[1+1이벤트/가격할인]프라하근교차량투어\"독일 드레스덴&amp;작센의스위스\"(#할인쿠폰제공#)</td>\n",
       "      <td>*안녕하세요 하이프라하입니다!  이벤트 공지사항   1+1이벤트 공지입니다.독일 드...</td>\n",
       "      <td>자연</td>\n",
       "      <td>혼자</td>\n",
       "      <td>Ex</td>\n",
       "    </tr>\n",
       "    <tr>\n",
       "      <td>...</td>\n",
       "      <td>...</td>\n",
       "      <td>...</td>\n",
       "      <td>...</td>\n",
       "      <td>...</td>\n",
       "      <td>...</td>\n",
       "      <td>...</td>\n",
       "      <td>...</td>\n",
       "    </tr>\n",
       "    <tr>\n",
       "      <td>775</td>\n",
       "      <td>1</td>\n",
       "      <td>9.788935e+12</td>\n",
       "      <td>팩트풀니스</td>\n",
       "      <td>전 세계적으로 확증편향이 기승을 부리는 탈진실의 시대에, 막연한 두려움과 편견을 이...</td>\n",
       "      <td>도시</td>\n",
       "      <td>혼자</td>\n",
       "      <td>Ex</td>\n",
       "    </tr>\n",
       "    <tr>\n",
       "      <td>776</td>\n",
       "      <td>1</td>\n",
       "      <td>9.791190e+12</td>\n",
       "      <td>지적 대화를 위한 넓고 얕은 지식: 제로 편</td>\n",
       "      <td>인문 분야 국내 작가로는 드물게 200만 부라는 더블 밀리언셀러를 기록한 작가, 출...</td>\n",
       "      <td>도시</td>\n",
       "      <td>혼자</td>\n",
       "      <td>Kn</td>\n",
       "    </tr>\n",
       "    <tr>\n",
       "      <td>777</td>\n",
       "      <td>1</td>\n",
       "      <td>9.791131e+12</td>\n",
       "      <td>내가 원하는 것을 나도 모를 때</td>\n",
       "      <td>왠지 자꾸만 마음이 쓸쓸하고 허무할 때가 있다. 지금 제대로 살고 있는 건지 앞으로...</td>\n",
       "      <td>도시</td>\n",
       "      <td>혼자</td>\n",
       "      <td>Ex</td>\n",
       "    </tr>\n",
       "    <tr>\n",
       "      <td>778</td>\n",
       "      <td>1</td>\n",
       "      <td>9.788935e+12</td>\n",
       "      <td>사피엔스</td>\n",
       "      <td>지금으로부터 10만 년 전, 지구에는 호모 사피엔스뿐만 아니라 네안데르탈인, 호모 ...</td>\n",
       "      <td>도시</td>\n",
       "      <td>혼자</td>\n",
       "      <td>Kn</td>\n",
       "    </tr>\n",
       "    <tr>\n",
       "      <td>779</td>\n",
       "      <td>1</td>\n",
       "      <td>9.788966e+12</td>\n",
       "      <td>당신이 옳다(교보문고 단독 리커버)(찰스 장 아트 에디션)</td>\n",
       "      <td>30여 년간 정신과 의사로 활동하며 1만2천여 명의 속마음을 듣고 나누었고, 《당신...</td>\n",
       "      <td>도시</td>\n",
       "      <td>혼자</td>\n",
       "      <td>Sh</td>\n",
       "    </tr>\n",
       "  </tbody>\n",
       "</table>\n",
       "<p>780 rows × 7 columns</p>\n",
       "</div>"
      ],
      "text/plain": [
       "     label          code                                              title  \\\n",
       "0        2  2.122000e+03                              국립박물관과 고흐 미술관  대표작 설명   \n",
       "1        2  1.474000e+03                                      암스테르담 시내 워킹투어   \n",
       "2        2  3.470000e+04                            네덜란드 암스테르담 시내  실속 워킹투어    \n",
       "3        2  4.600000e+02                                    히트호른, 폴른담, 풍차마을   \n",
       "4        2  8.693000e+03  [1+1이벤트/가격할인]프라하근교차량투어\"독일 드레스덴&작센의스위스\"(#할인쿠폰제공#)    \n",
       "..     ...           ...                                                ...   \n",
       "775      1  9.788935e+12                                              팩트풀니스   \n",
       "776      1  9.791190e+12                           지적 대화를 위한 넓고 얕은 지식: 제로 편   \n",
       "777      1  9.791131e+12                                  내가 원하는 것을 나도 모를 때   \n",
       "778      1  9.788935e+12                                               사피엔스   \n",
       "779      1  9.788966e+12                   당신이 옳다(교보문고 단독 리커버)(찰스 장 아트 에디션)   \n",
       "\n",
       "                                                corpus area company interest  \n",
       "0    국립박물관은 렘브란트(Rermbrandt)의 대표작 '야경꾼'을 전시하기 위한 목적...   도시      혼자       Ar  \n",
       "1    암스테르담은 네덜란드의 수도로서 운치와 분위기가 있는 도시입니다.그럼에도 불구하고 ...   도시      혼자       Ex  \n",
       "2     암스테르담을 실속있게 둘러볼 수 있는 투어입니다. 레이오버로 암스테르담에 잠깐 들...   도시     허니문       Ar  \n",
       "3    작은 베네치아라는 별명을 가진 히트호른 마을과 네덜란드에서 가장 아름다운 전통의상을...   자연      친구       Ex  \n",
       "4    *안녕하세요 하이프라하입니다!  이벤트 공지사항   1+1이벤트 공지입니다.독일 드...   자연      혼자       Ex  \n",
       "..                                                 ...  ...     ...      ...  \n",
       "775  전 세계적으로 확증편향이 기승을 부리는 탈진실의 시대에, 막연한 두려움과 편견을 이...   도시      혼자       Ex  \n",
       "776  인문 분야 국내 작가로는 드물게 200만 부라는 더블 밀리언셀러를 기록한 작가, 출...   도시      혼자       Kn  \n",
       "777  왠지 자꾸만 마음이 쓸쓸하고 허무할 때가 있다. 지금 제대로 살고 있는 건지 앞으로...   도시      혼자       Ex  \n",
       "778  지금으로부터 10만 년 전, 지구에는 호모 사피엔스뿐만 아니라 네안데르탈인, 호모 ...   도시      혼자       Kn  \n",
       "779  30여 년간 정신과 의사로 활동하며 1만2천여 명의 속마음을 듣고 나누었고, 《당신...   도시      혼자       Sh  \n",
       "\n",
       "[780 rows x 7 columns]"
      ]
     },
     "execution_count": 13,
     "metadata": {},
     "output_type": "execute_result"
    }
   ],
   "source": [
    "df_concated = pd.concat([df_activity, df_book2]).reset_index(drop=True)\n",
    "df_concated"
   ]
  },
  {
   "cell_type": "code",
   "execution_count": 14,
   "metadata": {},
   "outputs": [
    {
     "data": {
      "text/plain": [
       "2122.0"
      ]
     },
     "execution_count": 14,
     "metadata": {},
     "output_type": "execute_result"
    }
   ],
   "source": [
    "df_concated['code'][0]"
   ]
  },
  {
   "cell_type": "code",
   "execution_count": 15,
   "metadata": {
    "slideshow": {
     "slide_type": "slide"
    }
   },
   "outputs": [
    {
     "data": {
      "text/plain": [
       "780"
      ]
     },
     "execution_count": 15,
     "metadata": {},
     "output_type": "execute_result"
    }
   ],
   "source": [
    "# ISBN 컬럼 정리\n",
    "codes = []\n",
    "for i in range(len(df_concated)):\n",
    "    code = str(int(df_concated['code'][i]))\n",
    "    codes.append(code)\n",
    "len(codes)\n"
   ]
  },
  {
   "cell_type": "code",
   "execution_count": 16,
   "metadata": {},
   "outputs": [],
   "source": [
    "df_concated['code'] = codes"
   ]
  },
  {
   "cell_type": "code",
   "execution_count": 17,
   "metadata": {
    "slideshow": {
     "slide_type": "slide"
    }
   },
   "outputs": [
    {
     "data": {
      "text/html": [
       "<div>\n",
       "<style scoped>\n",
       "    .dataframe tbody tr th:only-of-type {\n",
       "        vertical-align: middle;\n",
       "    }\n",
       "\n",
       "    .dataframe tbody tr th {\n",
       "        vertical-align: top;\n",
       "    }\n",
       "\n",
       "    .dataframe thead th {\n",
       "        text-align: right;\n",
       "    }\n",
       "</style>\n",
       "<table border=\"1\" class=\"dataframe\">\n",
       "  <thead>\n",
       "    <tr style=\"text-align: right;\">\n",
       "      <th></th>\n",
       "      <th>label</th>\n",
       "      <th>code</th>\n",
       "      <th>title</th>\n",
       "      <th>corpus</th>\n",
       "      <th>area</th>\n",
       "      <th>company</th>\n",
       "      <th>interest</th>\n",
       "    </tr>\n",
       "  </thead>\n",
       "  <tbody>\n",
       "    <tr>\n",
       "      <td>0</td>\n",
       "      <td>2</td>\n",
       "      <td>2122</td>\n",
       "      <td>국립박물관과 고흐 미술관  대표작 설명</td>\n",
       "      <td>국립박물관은 렘브란트(Rermbrandt)의 대표작 '야경꾼'을 전시하기 위한 목적...</td>\n",
       "      <td>도시</td>\n",
       "      <td>혼자</td>\n",
       "      <td>Ar</td>\n",
       "    </tr>\n",
       "    <tr>\n",
       "      <td>1</td>\n",
       "      <td>2</td>\n",
       "      <td>1474</td>\n",
       "      <td>암스테르담 시내 워킹투어</td>\n",
       "      <td>암스테르담은 네덜란드의 수도로서 운치와 분위기가 있는 도시입니다.그럼에도 불구하고 ...</td>\n",
       "      <td>도시</td>\n",
       "      <td>혼자</td>\n",
       "      <td>Ex</td>\n",
       "    </tr>\n",
       "    <tr>\n",
       "      <td>2</td>\n",
       "      <td>2</td>\n",
       "      <td>34700</td>\n",
       "      <td>네덜란드 암스테르담 시내  실속 워킹투어</td>\n",
       "      <td>암스테르담을 실속있게 둘러볼 수 있는 투어입니다. 레이오버로 암스테르담에 잠깐 들...</td>\n",
       "      <td>도시</td>\n",
       "      <td>허니문</td>\n",
       "      <td>Ar</td>\n",
       "    </tr>\n",
       "    <tr>\n",
       "      <td>3</td>\n",
       "      <td>2</td>\n",
       "      <td>460</td>\n",
       "      <td>히트호른, 폴른담, 풍차마을</td>\n",
       "      <td>작은 베네치아라는 별명을 가진 히트호른 마을과 네덜란드에서 가장 아름다운 전통의상을...</td>\n",
       "      <td>자연</td>\n",
       "      <td>친구</td>\n",
       "      <td>Ex</td>\n",
       "    </tr>\n",
       "    <tr>\n",
       "      <td>4</td>\n",
       "      <td>2</td>\n",
       "      <td>8693</td>\n",
       "      <td>[1+1이벤트/가격할인]프라하근교차량투어\"독일 드레스덴&amp;작센의스위스\"(#할인쿠폰제공#)</td>\n",
       "      <td>*안녕하세요 하이프라하입니다!  이벤트 공지사항   1+1이벤트 공지입니다.독일 드...</td>\n",
       "      <td>자연</td>\n",
       "      <td>혼자</td>\n",
       "      <td>Ex</td>\n",
       "    </tr>\n",
       "    <tr>\n",
       "      <td>...</td>\n",
       "      <td>...</td>\n",
       "      <td>...</td>\n",
       "      <td>...</td>\n",
       "      <td>...</td>\n",
       "      <td>...</td>\n",
       "      <td>...</td>\n",
       "      <td>...</td>\n",
       "    </tr>\n",
       "    <tr>\n",
       "      <td>775</td>\n",
       "      <td>1</td>\n",
       "      <td>9788934985068</td>\n",
       "      <td>팩트풀니스</td>\n",
       "      <td>전 세계적으로 확증편향이 기승을 부리는 탈진실의 시대에, 막연한 두려움과 편견을 이...</td>\n",
       "      <td>도시</td>\n",
       "      <td>혼자</td>\n",
       "      <td>Ex</td>\n",
       "    </tr>\n",
       "    <tr>\n",
       "      <td>776</td>\n",
       "      <td>1</td>\n",
       "      <td>9791190313131</td>\n",
       "      <td>지적 대화를 위한 넓고 얕은 지식: 제로 편</td>\n",
       "      <td>인문 분야 국내 작가로는 드물게 200만 부라는 더블 밀리언셀러를 기록한 작가, 출...</td>\n",
       "      <td>도시</td>\n",
       "      <td>혼자</td>\n",
       "      <td>Kn</td>\n",
       "    </tr>\n",
       "    <tr>\n",
       "      <td>777</td>\n",
       "      <td>1</td>\n",
       "      <td>9791130627878</td>\n",
       "      <td>내가 원하는 것을 나도 모를 때</td>\n",
       "      <td>왠지 자꾸만 마음이 쓸쓸하고 허무할 때가 있다. 지금 제대로 살고 있는 건지 앞으로...</td>\n",
       "      <td>도시</td>\n",
       "      <td>혼자</td>\n",
       "      <td>Ex</td>\n",
       "    </tr>\n",
       "    <tr>\n",
       "      <td>778</td>\n",
       "      <td>1</td>\n",
       "      <td>9788934972464</td>\n",
       "      <td>사피엔스</td>\n",
       "      <td>지금으로부터 10만 년 전, 지구에는 호모 사피엔스뿐만 아니라 네안데르탈인, 호모 ...</td>\n",
       "      <td>도시</td>\n",
       "      <td>혼자</td>\n",
       "      <td>Kn</td>\n",
       "    </tr>\n",
       "    <tr>\n",
       "      <td>779</td>\n",
       "      <td>1</td>\n",
       "      <td>9788965746669</td>\n",
       "      <td>당신이 옳다(교보문고 단독 리커버)(찰스 장 아트 에디션)</td>\n",
       "      <td>30여 년간 정신과 의사로 활동하며 1만2천여 명의 속마음을 듣고 나누었고, 《당신...</td>\n",
       "      <td>도시</td>\n",
       "      <td>혼자</td>\n",
       "      <td>Sh</td>\n",
       "    </tr>\n",
       "  </tbody>\n",
       "</table>\n",
       "<p>780 rows × 7 columns</p>\n",
       "</div>"
      ],
      "text/plain": [
       "     label           code                                              title  \\\n",
       "0        2           2122                              국립박물관과 고흐 미술관  대표작 설명   \n",
       "1        2           1474                                      암스테르담 시내 워킹투어   \n",
       "2        2          34700                            네덜란드 암스테르담 시내  실속 워킹투어    \n",
       "3        2            460                                    히트호른, 폴른담, 풍차마을   \n",
       "4        2           8693  [1+1이벤트/가격할인]프라하근교차량투어\"독일 드레스덴&작센의스위스\"(#할인쿠폰제공#)    \n",
       "..     ...            ...                                                ...   \n",
       "775      1  9788934985068                                              팩트풀니스   \n",
       "776      1  9791190313131                           지적 대화를 위한 넓고 얕은 지식: 제로 편   \n",
       "777      1  9791130627878                                  내가 원하는 것을 나도 모를 때   \n",
       "778      1  9788934972464                                               사피엔스   \n",
       "779      1  9788965746669                   당신이 옳다(교보문고 단독 리커버)(찰스 장 아트 에디션)   \n",
       "\n",
       "                                                corpus area company interest  \n",
       "0    국립박물관은 렘브란트(Rermbrandt)의 대표작 '야경꾼'을 전시하기 위한 목적...   도시      혼자       Ar  \n",
       "1    암스테르담은 네덜란드의 수도로서 운치와 분위기가 있는 도시입니다.그럼에도 불구하고 ...   도시      혼자       Ex  \n",
       "2     암스테르담을 실속있게 둘러볼 수 있는 투어입니다. 레이오버로 암스테르담에 잠깐 들...   도시     허니문       Ar  \n",
       "3    작은 베네치아라는 별명을 가진 히트호른 마을과 네덜란드에서 가장 아름다운 전통의상을...   자연      친구       Ex  \n",
       "4    *안녕하세요 하이프라하입니다!  이벤트 공지사항   1+1이벤트 공지입니다.독일 드...   자연      혼자       Ex  \n",
       "..                                                 ...  ...     ...      ...  \n",
       "775  전 세계적으로 확증편향이 기승을 부리는 탈진실의 시대에, 막연한 두려움과 편견을 이...   도시      혼자       Ex  \n",
       "776  인문 분야 국내 작가로는 드물게 200만 부라는 더블 밀리언셀러를 기록한 작가, 출...   도시      혼자       Kn  \n",
       "777  왠지 자꾸만 마음이 쓸쓸하고 허무할 때가 있다. 지금 제대로 살고 있는 건지 앞으로...   도시      혼자       Ex  \n",
       "778  지금으로부터 10만 년 전, 지구에는 호모 사피엔스뿐만 아니라 네안데르탈인, 호모 ...   도시      혼자       Kn  \n",
       "779  30여 년간 정신과 의사로 활동하며 1만2천여 명의 속마음을 듣고 나누었고, 《당신...   도시      혼자       Sh  \n",
       "\n",
       "[780 rows x 7 columns]"
      ]
     },
     "execution_count": 17,
     "metadata": {},
     "output_type": "execute_result"
    }
   ],
   "source": [
    "df_concated"
   ]
  },
  {
   "cell_type": "markdown",
   "metadata": {
    "slideshow": {
     "slide_type": "slide"
    }
   },
   "source": [
    "### 벡터라이즈"
   ]
  },
  {
   "cell_type": "code",
   "execution_count": 18,
   "metadata": {},
   "outputs": [],
   "source": [
    "from wordcloud import WordCloud, STOPWORDS\n",
    "import matplotlib.pyplot as plt\n",
    "%matplotlib inline\n",
    "\n",
    "from PIL import Image\n",
    "import nltk\n",
    "from konlpy.corpus import kobill"
   ]
  },
  {
   "cell_type": "code",
   "execution_count": 120,
   "metadata": {},
   "outputs": [],
   "source": [
    "#from konlpy.tag import Okt;\n",
    "#t = Okt()\n",
    "#tokens_ko = t.nouns(novel)\n",
    "#tokens_ko"
   ]
  },
  {
   "cell_type": "code",
   "execution_count": 38,
   "metadata": {},
   "outputs": [],
   "source": [
    "#stop_words = ['책', '.', '(', ')', ',', \"'\", '%', '-', 'X', ').', 'x', '의', '자', '에', '안', '변', '호', '을', '이', '다', '만', '로', '가', '를', '것', '그', '이', '관', '수', '간', '앞', '때', '내', '준', '해', '주']"
   ]
  },
  {
   "cell_type": "code",
   "execution_count": 20,
   "metadata": {
    "slideshow": {
     "slide_type": "slide"
    }
   },
   "outputs": [],
   "source": [
    "# corpus 컬럼에 라벨링한 데이터만 추가(area, company, interest)\n",
    "\n",
    "df_concated['corpus'] = df_concated['area']  + df_concated['company'] + df_concated['interest']"
   ]
  },
  {
   "cell_type": "code",
   "execution_count": 21,
   "metadata": {},
   "outputs": [],
   "source": [
    "df_concated2 = df_concated.dropna()"
   ]
  },
  {
   "cell_type": "code",
   "execution_count": 22,
   "metadata": {
    "slideshow": {
     "slide_type": "slide"
    }
   },
   "outputs": [
    {
     "data": {
      "text/html": [
       "<div>\n",
       "<style scoped>\n",
       "    .dataframe tbody tr th:only-of-type {\n",
       "        vertical-align: middle;\n",
       "    }\n",
       "\n",
       "    .dataframe tbody tr th {\n",
       "        vertical-align: top;\n",
       "    }\n",
       "\n",
       "    .dataframe thead th {\n",
       "        text-align: right;\n",
       "    }\n",
       "</style>\n",
       "<table border=\"1\" class=\"dataframe\">\n",
       "  <thead>\n",
       "    <tr style=\"text-align: right;\">\n",
       "      <th></th>\n",
       "      <th>label</th>\n",
       "      <th>code</th>\n",
       "      <th>title</th>\n",
       "      <th>corpus</th>\n",
       "      <th>area</th>\n",
       "      <th>company</th>\n",
       "      <th>interest</th>\n",
       "    </tr>\n",
       "  </thead>\n",
       "  <tbody>\n",
       "    <tr>\n",
       "      <td>0</td>\n",
       "      <td>2</td>\n",
       "      <td>2122</td>\n",
       "      <td>국립박물관과 고흐 미술관  대표작 설명</td>\n",
       "      <td>도시혼자Ar</td>\n",
       "      <td>도시</td>\n",
       "      <td>혼자</td>\n",
       "      <td>Ar</td>\n",
       "    </tr>\n",
       "    <tr>\n",
       "      <td>1</td>\n",
       "      <td>2</td>\n",
       "      <td>1474</td>\n",
       "      <td>암스테르담 시내 워킹투어</td>\n",
       "      <td>도시혼자Ex</td>\n",
       "      <td>도시</td>\n",
       "      <td>혼자</td>\n",
       "      <td>Ex</td>\n",
       "    </tr>\n",
       "    <tr>\n",
       "      <td>2</td>\n",
       "      <td>2</td>\n",
       "      <td>34700</td>\n",
       "      <td>네덜란드 암스테르담 시내  실속 워킹투어</td>\n",
       "      <td>도시허니문Ar</td>\n",
       "      <td>도시</td>\n",
       "      <td>허니문</td>\n",
       "      <td>Ar</td>\n",
       "    </tr>\n",
       "    <tr>\n",
       "      <td>3</td>\n",
       "      <td>2</td>\n",
       "      <td>460</td>\n",
       "      <td>히트호른, 폴른담, 풍차마을</td>\n",
       "      <td>자연친구Ex</td>\n",
       "      <td>자연</td>\n",
       "      <td>친구</td>\n",
       "      <td>Ex</td>\n",
       "    </tr>\n",
       "    <tr>\n",
       "      <td>4</td>\n",
       "      <td>2</td>\n",
       "      <td>8693</td>\n",
       "      <td>[1+1이벤트/가격할인]프라하근교차량투어\"독일 드레스덴&amp;작센의스위스\"(#할인쿠폰제공#)</td>\n",
       "      <td>자연혼자Ex</td>\n",
       "      <td>자연</td>\n",
       "      <td>혼자</td>\n",
       "      <td>Ex</td>\n",
       "    </tr>\n",
       "    <tr>\n",
       "      <td>...</td>\n",
       "      <td>...</td>\n",
       "      <td>...</td>\n",
       "      <td>...</td>\n",
       "      <td>...</td>\n",
       "      <td>...</td>\n",
       "      <td>...</td>\n",
       "      <td>...</td>\n",
       "    </tr>\n",
       "    <tr>\n",
       "      <td>775</td>\n",
       "      <td>1</td>\n",
       "      <td>9788934985068</td>\n",
       "      <td>팩트풀니스</td>\n",
       "      <td>도시혼자Ex</td>\n",
       "      <td>도시</td>\n",
       "      <td>혼자</td>\n",
       "      <td>Ex</td>\n",
       "    </tr>\n",
       "    <tr>\n",
       "      <td>776</td>\n",
       "      <td>1</td>\n",
       "      <td>9791190313131</td>\n",
       "      <td>지적 대화를 위한 넓고 얕은 지식: 제로 편</td>\n",
       "      <td>도시혼자Kn</td>\n",
       "      <td>도시</td>\n",
       "      <td>혼자</td>\n",
       "      <td>Kn</td>\n",
       "    </tr>\n",
       "    <tr>\n",
       "      <td>777</td>\n",
       "      <td>1</td>\n",
       "      <td>9791130627878</td>\n",
       "      <td>내가 원하는 것을 나도 모를 때</td>\n",
       "      <td>도시혼자Ex</td>\n",
       "      <td>도시</td>\n",
       "      <td>혼자</td>\n",
       "      <td>Ex</td>\n",
       "    </tr>\n",
       "    <tr>\n",
       "      <td>778</td>\n",
       "      <td>1</td>\n",
       "      <td>9788934972464</td>\n",
       "      <td>사피엔스</td>\n",
       "      <td>도시혼자Kn</td>\n",
       "      <td>도시</td>\n",
       "      <td>혼자</td>\n",
       "      <td>Kn</td>\n",
       "    </tr>\n",
       "    <tr>\n",
       "      <td>779</td>\n",
       "      <td>1</td>\n",
       "      <td>9788965746669</td>\n",
       "      <td>당신이 옳다(교보문고 단독 리커버)(찰스 장 아트 에디션)</td>\n",
       "      <td>도시혼자Sh</td>\n",
       "      <td>도시</td>\n",
       "      <td>혼자</td>\n",
       "      <td>Sh</td>\n",
       "    </tr>\n",
       "  </tbody>\n",
       "</table>\n",
       "<p>770 rows × 7 columns</p>\n",
       "</div>"
      ],
      "text/plain": [
       "     label           code                                              title  \\\n",
       "0        2           2122                              국립박물관과 고흐 미술관  대표작 설명   \n",
       "1        2           1474                                      암스테르담 시내 워킹투어   \n",
       "2        2          34700                            네덜란드 암스테르담 시내  실속 워킹투어    \n",
       "3        2            460                                    히트호른, 폴른담, 풍차마을   \n",
       "4        2           8693  [1+1이벤트/가격할인]프라하근교차량투어\"독일 드레스덴&작센의스위스\"(#할인쿠폰제공#)    \n",
       "..     ...            ...                                                ...   \n",
       "775      1  9788934985068                                              팩트풀니스   \n",
       "776      1  9791190313131                           지적 대화를 위한 넓고 얕은 지식: 제로 편   \n",
       "777      1  9791130627878                                  내가 원하는 것을 나도 모를 때   \n",
       "778      1  9788934972464                                               사피엔스   \n",
       "779      1  9788965746669                   당신이 옳다(교보문고 단독 리커버)(찰스 장 아트 에디션)   \n",
       "\n",
       "      corpus area company interest  \n",
       "0     도시혼자Ar   도시      혼자       Ar  \n",
       "1     도시혼자Ex   도시      혼자       Ex  \n",
       "2    도시허니문Ar   도시     허니문       Ar  \n",
       "3     자연친구Ex   자연      친구       Ex  \n",
       "4     자연혼자Ex   자연      혼자       Ex  \n",
       "..       ...  ...     ...      ...  \n",
       "775   도시혼자Ex   도시      혼자       Ex  \n",
       "776   도시혼자Kn   도시      혼자       Kn  \n",
       "777   도시혼자Ex   도시      혼자       Ex  \n",
       "778   도시혼자Kn   도시      혼자       Kn  \n",
       "779   도시혼자Sh   도시      혼자       Sh  \n",
       "\n",
       "[770 rows x 7 columns]"
      ]
     },
     "execution_count": 22,
     "metadata": {},
     "output_type": "execute_result"
    }
   ],
   "source": [
    "df_concated2"
   ]
  },
  {
   "cell_type": "code",
   "execution_count": 23,
   "metadata": {},
   "outputs": [],
   "source": [
    "df_concated3 = df_concated2.reset_index(drop=True)"
   ]
  },
  {
   "cell_type": "code",
   "execution_count": 24,
   "metadata": {},
   "outputs": [],
   "source": [
    "df_concated3 = df_concated3.dropna()"
   ]
  },
  {
   "cell_type": "code",
   "execution_count": 120,
   "metadata": {},
   "outputs": [
    {
     "data": {
      "text/html": [
       "<div>\n",
       "<style scoped>\n",
       "    .dataframe tbody tr th:only-of-type {\n",
       "        vertical-align: middle;\n",
       "    }\n",
       "\n",
       "    .dataframe tbody tr th {\n",
       "        vertical-align: top;\n",
       "    }\n",
       "\n",
       "    .dataframe thead th {\n",
       "        text-align: right;\n",
       "    }\n",
       "</style>\n",
       "<table border=\"1\" class=\"dataframe\">\n",
       "  <thead>\n",
       "    <tr style=\"text-align: right;\">\n",
       "      <th></th>\n",
       "      <th>label</th>\n",
       "      <th>code</th>\n",
       "      <th>title</th>\n",
       "      <th>corpus</th>\n",
       "      <th>area</th>\n",
       "      <th>company</th>\n",
       "      <th>interest</th>\n",
       "    </tr>\n",
       "  </thead>\n",
       "  <tbody>\n",
       "    <tr>\n",
       "      <td>530</td>\n",
       "      <td>1</td>\n",
       "      <td>9791161659534</td>\n",
       "      <td>실컷 울고나니 배고파졌어요</td>\n",
       "      <td>도시혼자Sh</td>\n",
       "      <td>도시</td>\n",
       "      <td>혼자</td>\n",
       "      <td>Sh</td>\n",
       "    </tr>\n",
       "    <tr>\n",
       "      <td>531</td>\n",
       "      <td>1</td>\n",
       "      <td>9791162202913</td>\n",
       "      <td>모든 순간이 너였다(리커버 솜사탕 에디션)</td>\n",
       "      <td>자연허니문Et</td>\n",
       "      <td>자연</td>\n",
       "      <td>허니문</td>\n",
       "      <td>Et</td>\n",
       "    </tr>\n",
       "    <tr>\n",
       "      <td>532</td>\n",
       "      <td>1</td>\n",
       "      <td>9788925569048</td>\n",
       "      <td>평일도 인생이니까</td>\n",
       "      <td>도시친구Et</td>\n",
       "      <td>도시</td>\n",
       "      <td>친구</td>\n",
       "      <td>Et</td>\n",
       "    </tr>\n",
       "    <tr>\n",
       "      <td>533</td>\n",
       "      <td>1</td>\n",
       "      <td>9791162141786</td>\n",
       "      <td>오늘은 이만 좀 쉴게요(The cat edition)</td>\n",
       "      <td>자연혼자Sh</td>\n",
       "      <td>자연</td>\n",
       "      <td>혼자</td>\n",
       "      <td>Sh</td>\n",
       "    </tr>\n",
       "    <tr>\n",
       "      <td>534</td>\n",
       "      <td>1</td>\n",
       "      <td>9788925565736</td>\n",
       "      <td>마음이 살짝 기운다</td>\n",
       "      <td>자연가족Ar</td>\n",
       "      <td>자연</td>\n",
       "      <td>가족</td>\n",
       "      <td>Ar</td>\n",
       "    </tr>\n",
       "    <tr>\n",
       "      <td>535</td>\n",
       "      <td>1</td>\n",
       "      <td>9788954658355</td>\n",
       "      <td>여자로 살아가는 우리들에게</td>\n",
       "      <td>도시친구Ex</td>\n",
       "      <td>도시</td>\n",
       "      <td>친구</td>\n",
       "      <td>Ex</td>\n",
       "    </tr>\n",
       "    <tr>\n",
       "      <td>536</td>\n",
       "      <td>1</td>\n",
       "      <td>9788954670920</td>\n",
       "      <td>모월모일</td>\n",
       "      <td>도시가족Ex</td>\n",
       "      <td>도시</td>\n",
       "      <td>가족</td>\n",
       "      <td>Ex</td>\n",
       "    </tr>\n",
       "    <tr>\n",
       "      <td>537</td>\n",
       "      <td>1</td>\n",
       "      <td>9791158161026</td>\n",
       "      <td>혼자가 혼자에게(Iceland Edition)(10만 부 기념 특별 한정판)</td>\n",
       "      <td>도시혼자Ar</td>\n",
       "      <td>도시</td>\n",
       "      <td>혼자</td>\n",
       "      <td>Ar</td>\n",
       "    </tr>\n",
       "    <tr>\n",
       "      <td>538</td>\n",
       "      <td>1</td>\n",
       "      <td>9791160403640</td>\n",
       "      <td>오늘 밤은 굶고 자야지</td>\n",
       "      <td>도시혼자Fo</td>\n",
       "      <td>도시</td>\n",
       "      <td>혼자</td>\n",
       "      <td>Fo</td>\n",
       "    </tr>\n",
       "    <tr>\n",
       "      <td>539</td>\n",
       "      <td>1</td>\n",
       "      <td>9788954670807</td>\n",
       "      <td>제법 안온한 날들</td>\n",
       "      <td>도시혼자Kn</td>\n",
       "      <td>도시</td>\n",
       "      <td>혼자</td>\n",
       "      <td>Kn</td>\n",
       "    </tr>\n",
       "  </tbody>\n",
       "</table>\n",
       "</div>"
      ],
      "text/plain": [
       "     label           code                                       title  \\\n",
       "530      1  9791161659534                              실컷 울고나니 배고파졌어요   \n",
       "531      1  9791162202913                     모든 순간이 너였다(리커버 솜사탕 에디션)   \n",
       "532      1  9788925569048                                   평일도 인생이니까   \n",
       "533      1  9791162141786               오늘은 이만 좀 쉴게요(The cat edition)   \n",
       "534      1  9788925565736                                  마음이 살짝 기운다   \n",
       "535      1  9788954658355                              여자로 살아가는 우리들에게   \n",
       "536      1  9788954670920                                        모월모일   \n",
       "537      1  9791158161026  혼자가 혼자에게(Iceland Edition)(10만 부 기념 특별 한정판)   \n",
       "538      1  9791160403640                                오늘 밤은 굶고 자야지   \n",
       "539      1  9788954670807                                   제법 안온한 날들   \n",
       "\n",
       "      corpus area company interest  \n",
       "530   도시혼자Sh   도시      혼자       Sh  \n",
       "531  자연허니문Et   자연     허니문       Et  \n",
       "532   도시친구Et   도시      친구       Et  \n",
       "533   자연혼자Sh   자연      혼자       Sh  \n",
       "534   자연가족Ar   자연      가족       Ar  \n",
       "535   도시친구Ex   도시      친구       Ex  \n",
       "536   도시가족Ex   도시      가족       Ex  \n",
       "537   도시혼자Ar   도시      혼자       Ar  \n",
       "538   도시혼자Fo   도시      혼자       Fo  \n",
       "539   도시혼자Kn   도시      혼자       Kn  "
      ]
     },
     "execution_count": 120,
     "metadata": {},
     "output_type": "execute_result"
    }
   ],
   "source": [
    "df_concated3[530:540]"
   ]
  },
  {
   "cell_type": "code",
   "execution_count": 26,
   "metadata": {
    "slideshow": {
     "slide_type": "slide"
    }
   },
   "outputs": [
    {
     "data": {
      "text/plain": [
       "<770x55 sparse matrix of type '<class 'numpy.float64'>'\n",
       "\twith 770 stored elements in Compressed Sparse Row format>"
      ]
     },
     "execution_count": 26,
     "metadata": {},
     "output_type": "execute_result"
    }
   ],
   "source": [
    "# labeling한 데이터로 tfidf 수행\n",
    "from sklearn.feature_extraction.text import TfidfVectorizer\n",
    "\n",
    "tf = TfidfVectorizer(analyzer='word', ngram_range=(1,2), min_df=0 ) #,stop_words=stop_words\n",
    "tfidf_matrix = tf.fit_transform(df_concated3['corpus'])\n",
    "tfidf_matrix"
   ]
  },
  {
   "cell_type": "code",
   "execution_count": 27,
   "metadata": {
    "slideshow": {
     "slide_type": "slide"
    }
   },
   "outputs": [
    {
     "data": {
      "text/plain": [
       "array([[1., 0., 0., ..., 0., 0., 0.],\n",
       "       [0., 1., 0., ..., 1., 0., 0.],\n",
       "       [0., 0., 1., ..., 0., 0., 0.],\n",
       "       ...,\n",
       "       [0., 1., 0., ..., 1., 0., 0.],\n",
       "       [0., 0., 0., ..., 0., 1., 0.],\n",
       "       [0., 0., 0., ..., 0., 0., 1.]])"
      ]
     },
     "execution_count": 27,
     "metadata": {},
     "output_type": "execute_result"
    }
   ],
   "source": [
    "# 유사도 측정\n",
    "from sklearn.metrics.pairwise import linear_kernel\n",
    "\n",
    "cosine_sim = linear_kernel(tfidf_matrix, tfidf_matrix)\n",
    "cosine_sim"
   ]
  },
  {
   "cell_type": "code",
   "execution_count": 28,
   "metadata": {
    "slideshow": {
     "slide_type": "slide"
    }
   },
   "outputs": [],
   "source": [
    "# Tfidft 수행\n",
    "from sklearn.feature_extraction.text import TfidfVectorizer\n",
    "\n",
    "tf_corpus = TfidfVectorizer(analyzer='word', ngram_range=(1,2), min_df=0) #, stop_words=stop_words\n",
    "tfidf_matrix_corpus = tf_corpus.fit_transform(df_concated3['corpus'])\n",
    "cosine_sim_corpus = linear_kernel(tfidf_matrix_corpus, tfidf_matrix_corpus)\n",
    "\n",
    "titles = df_concated3[\"code\"]\n",
    "indices = pd.Series(df_concated3.index, index=df_concated3['code'])"
   ]
  },
  {
   "cell_type": "code",
   "execution_count": 29,
   "metadata": {
    "slideshow": {
     "slide_type": "slide"
    }
   },
   "outputs": [],
   "source": [
    "# 추천여행을 반환하는 함수\n",
    "\n",
    "titles1 = df_concated3[['label','code', 'title', 'corpus']]\n",
    "indices1 = pd.Series(df_concated3.index,index=df_concated3['title'])\n",
    "\n",
    "def corpus_recommendation(title):\n",
    "    idx = indices1[title]\n",
    "    sim_scores = list(enumerate(cosine_sim_corpus[idx]))\n",
    "    sim_scores = sorted(sim_scores, key=lambda x: x[1], reverse=True)\n",
    "    sim_scores = sim_scores[0:200]\n",
    "    book_indices = [i[0] for i in sim_scores]\n",
    "    \n",
    "    return titles1.iloc[book_indices]"
   ]
  },
  {
   "cell_type": "code",
   "execution_count": null,
   "metadata": {},
   "outputs": [],
   "source": []
  },
  {
   "cell_type": "code",
   "execution_count": null,
   "metadata": {},
   "outputs": [],
   "source": []
  },
  {
   "cell_type": "markdown",
   "metadata": {
    "slideshow": {
     "slide_type": "slide"
    }
   },
   "source": [
    "#### 테스트 1 : <백범일지>(일제강점기 독립운동 역사 이야기)"
   ]
  },
  {
   "cell_type": "code",
   "execution_count": 113,
   "metadata": {},
   "outputs": [
    {
     "data": {
      "text/plain": [
       "9788971992258.0"
      ]
     },
     "execution_count": 113,
     "metadata": {},
     "output_type": "execute_result"
    }
   ],
   "source": [
    "df_book2[df_book2['title'] == \"백범일지\"].loc[156]['code']"
   ]
  },
  {
   "cell_type": "code",
   "execution_count": 32,
   "metadata": {
    "slideshow": {
     "slide_type": "slide"
    }
   },
   "outputs": [],
   "source": [
    "result = corpus_recommendation(\"백범일지\")"
   ]
  },
  {
   "cell_type": "code",
   "execution_count": 33,
   "metadata": {
    "slideshow": {
     "slide_type": "slide"
    }
   },
   "outputs": [
    {
     "data": {
      "text/html": [
       "<div>\n",
       "<style scoped>\n",
       "    .dataframe tbody tr th:only-of-type {\n",
       "        vertical-align: middle;\n",
       "    }\n",
       "\n",
       "    .dataframe tbody tr th {\n",
       "        vertical-align: top;\n",
       "    }\n",
       "\n",
       "    .dataframe thead th {\n",
       "        text-align: right;\n",
       "    }\n",
       "</style>\n",
       "<table border=\"1\" class=\"dataframe\">\n",
       "  <thead>\n",
       "    <tr style=\"text-align: right;\">\n",
       "      <th></th>\n",
       "      <th>label</th>\n",
       "      <th>code</th>\n",
       "      <th>title</th>\n",
       "      <th>corpus</th>\n",
       "    </tr>\n",
       "  </thead>\n",
       "  <tbody>\n",
       "    <tr>\n",
       "      <td>5</td>\n",
       "      <td>2</td>\n",
       "      <td>12350</td>\n",
       "      <td>[투어] 하루에 다 보는 베를린 가이드 투어  (독일/베를린)</td>\n",
       "      <td>도시혼자Kn</td>\n",
       "    </tr>\n",
       "    <tr>\n",
       "      <td>50</td>\n",
       "      <td>2</td>\n",
       "      <td>32691</td>\n",
       "      <td>보따리투어 :: 낮보다 밤이 아름다운 피렌체 야경과 함께하는 시티투어, 피렌체 야경투어</td>\n",
       "      <td>도시혼자Kn</td>\n",
       "    </tr>\n",
       "    <tr>\n",
       "      <td>65</td>\n",
       "      <td>2</td>\n",
       "      <td>45020</td>\n",
       "      <td>[투어] 한국인 투어 코디와 함께하는 발레타 워킹 투어 :: 몰타/발레타</td>\n",
       "      <td>도시혼자Kn</td>\n",
       "    </tr>\n",
       "    <tr>\n",
       "      <td>77</td>\n",
       "      <td>2</td>\n",
       "      <td>27915</td>\n",
       "      <td>[디테일 가우디+고딕지구무료야경] 최고의 스토리텔링+구엘공원무료/동반입장</td>\n",
       "      <td>도시혼자Kn</td>\n",
       "    </tr>\n",
       "    <tr>\n",
       "      <td>110</td>\n",
       "      <td>2</td>\n",
       "      <td>14231</td>\n",
       "      <td>리가 음식, 문화 워킹 투어</td>\n",
       "      <td>도시혼자Kn</td>\n",
       "    </tr>\n",
       "    <tr>\n",
       "      <td>133</td>\n",
       "      <td>2</td>\n",
       "      <td>29266</td>\n",
       "      <td>아픈 현대사 속에서 도약하는 나라 세르비아,  수도 베오그라드 시내 워킹 투어!</td>\n",
       "      <td>도시혼자Kn</td>\n",
       "    </tr>\n",
       "  </tbody>\n",
       "</table>\n",
       "</div>"
      ],
      "text/plain": [
       "     label   code                                             title  corpus\n",
       "5        2  12350                [투어] 하루에 다 보는 베를린 가이드 투어  (독일/베를린)  도시혼자Kn\n",
       "50       2  32691  보따리투어 :: 낮보다 밤이 아름다운 피렌체 야경과 함께하는 시티투어, 피렌체 야경투어  도시혼자Kn\n",
       "65       2  45020          [투어] 한국인 투어 코디와 함께하는 발레타 워킹 투어 :: 몰타/발레타  도시혼자Kn\n",
       "77       2  27915          [디테일 가우디+고딕지구무료야경] 최고의 스토리텔링+구엘공원무료/동반입장  도시혼자Kn\n",
       "110      2  14231                                   리가 음식, 문화 워킹 투어  도시혼자Kn\n",
       "133      2  29266      아픈 현대사 속에서 도약하는 나라 세르비아,  수도 베오그라드 시내 워킹 투어!  도시혼자Kn"
      ]
     },
     "execution_count": 33,
     "metadata": {},
     "output_type": "execute_result"
    }
   ],
   "source": [
    "result[result['label'] == 2][0:6]"
   ]
  },
  {
   "cell_type": "code",
   "execution_count": 105,
   "metadata": {
    "slideshow": {
     "slide_type": "slide"
    }
   },
   "outputs": [
    {
     "data": {
      "text/plain": [
       "'발칸 지역의 중심인 세르비아는 지리적으로 유럽과 아시아, 역사적으로 서 로마와 동 로마, 종교적으로 기독교와 이슬람이 교차하는 지역에 위치에 있습니다. 이를 통해 세르비아 역사의 굴곡을 짐작해 볼 수 있습니다.  세르비아는 20세기만 8번의 전쟁을 겪을 정도로 상처와 아픔이 많은 나라입니다. 기네스북에 오른 세계 최고액의 지폐. 5천억짜리 세르비아 지폐(1993년까지 사용함)는 빵 한 봉지, 우유 한 병을 살 수 있을 정도의 가치였으니, 세르비아가 겪은 살인적인 인플레이션을 말해줍니다. 발칸의 맹주국 이었던 세르비아는 1999년 나토공습과 이후 10년 간의 경제 제제로 인해 1990년대와 2000년 대를 \"잃어버린 20년\"으로 불리고 있습니다. 1980년 대 공산권이 붕괴할 때만 해도 세르비아는 이웃 헝가리보다 경제가 앞섰습니다. 세르비아는 혹독한 대가를 치르고 현재 새롭게 도약하기 위해 기지개를 펴고 있습니다. 2016년 World Bank의 전 세계 기업환경 분석에서도 가장 빠르게 기업환경을 개선한 10대 국가 중 하나로 선정되었으며 2017년에도 꾸준히 개선하여 전 세계 기업 환경 47위를 기록하고 있습니다. 또한 최근, 영국의 저명한 경제 일간지인 Financial Times가 조사한 94개국 중에서 세르비아가 그린필드 투자 1위로 선정되기도 하였습니다. 세르비아의 수도 베오그라드는 약 200만 명이 살고 있는 유럽의 큰 도시 중 하나 입니다. 흰색 도시라는 의미를 가지고 있는 베오그라드는 다뉴브강과 사바강이 만나는 넓은 평원에 자리 잡고 있습니다. 베오그라드는 지난 200년 동안 40번이나 파괴되고 다시 건설된 비운의 역사, 분쟁의 아픈 역사를 만날 수 있습니다. 동시에 최근 해외 투자로 사바강 주변에 현대식 고층 건물들이 들어서고 있으며 고속버스터미널과 기차터미널 이전을 계획하고 있으며 경제성장에 박차를 가하고 있습니다.베오그라드의 웅장함에 과거 잘 살았던 세르비아 흔적을 발견할 수 있으며, 앞으로의  가능성과 미래를 볼 수 있습니다.'"
      ]
     },
     "execution_count": 105,
     "metadata": {},
     "output_type": "execute_result"
    }
   ],
   "source": [
    "activity[activity['code'] == 29266].loc[141]['intro']"
   ]
  },
  {
   "cell_type": "markdown",
   "metadata": {
    "slideshow": {
     "slide_type": "slide"
    }
   },
   "source": [
    "#### 테스트 2 : 유명한 고전 소설, <이상한 나라의 앨리스>"
   ]
  },
  {
   "cell_type": "code",
   "execution_count": 98,
   "metadata": {},
   "outputs": [
    {
     "data": {
      "text/plain": [
       "'오랜 세월을 건너며 사람들의 삶 가운데 깊이 자리한 아름다운 고전들. 시대를 초월하여 사랑받아온 명작과 오늘을 대표하는 젊은 아티스트들의 감각이 하나로 만난 새로운 클래식 시리즈, 아트앤클래식Art & Classic의 첫 책이 출간되었다. 고전을 색다르게 만날 수 있도록 안내할 아트앤클래식은 1년여의 기획 기간을 거쳐 고전 작품을 선별하고, 그에 어울리는 일러스트레이터들과의 협업으로 완성되었다. 첫 책은 세계가 사랑한 일러스트레이터 퍼엉이 재해석한 『이상한 나라의 앨리스』이다. 일상 속 따뜻한 정서를 공감 가득한 그림으로 담아내온 퍼엉 작가는 자신만의 감성으로 이 책을 읽어내어 유쾌하고, 신비하고, 매력적인 캐릭터들을 탄생시켰다. 덕분에 우리는 그림을 넘겨보는 것만으로 앨리스가 이상한 나라에 빠져들었던 것처럼 이상한 나라로의 여행을 시작할 수 있게 된다.세계적인 동화작가인 루이스 캐럴의 본명은 찰스 루트위지 도지슨이다.1832년 영국 체셔 지방의 성직자 집안에서 태어난 그는 옥스퍼드 대학 수학과를 졸업하고, 모교의 교수로 재임했다. 이 책 『이상한 나라의 앨리스』는 앨리스 리델 자매들에게 들려준 이야기를 동화로 적은 것으로 1865년 정식 출간되었다. 출간된 이래 긴 시간 동안 많은 이들에게 사랑받았으며, 전 세계 수많은 나라에서 연극, 영화, 애니메이션 등으로 각색되며 판타지의 고전으로 자리매김하였다. 지은 책으로『이상한 나라의 앨리스』의 속편격인 환상동화 『거울나라의 앨리스』, 장편소설 『실비와 브루노』가 있고 시집 등을 펴냈다.대학에서 영어학을 전공하고 대학원에서 영어 교육학을 전공했다. 글밥 아카데미를 수료하고 번역가의 길로 들어섰다. 현재 캐나다 밴쿠버에서 영어를 가르치며 번역 작업을 병행하고 있다. 지은 책으로 『유학영어 길라잡이』(공저)가 있다.한국예술종합학교에서 애니메이션 예술전문사 학위를 받았다. 네이버 그라폴리오에 ‘편안하고 사랑스럽고 그래’라는 제목의 따뜻하고 공감 가득한 이야기를 연재하면서 많은 이들에게 주목받았다. 이후 세계적인 사랑을 얻으며 7개국에서 8권의 일러스트북을 출간하였다. ‘편안하고 사랑스럽고 그래’의 연재를 지속하고 있으며, 유튜브에 애니메이션 시리즈를 발표하고 있다. 이 책에서는 퍼엉만의 감성으로 『이상한 나라의 앨리스』를 재해석하여 유쾌하고, 사랑스럽고, 신비로운 캐릭터를 만들어냈다.01  토끼굴 속으로 02  눈물 웅덩이 03  코커스 달리기와 긴 이야기04  토끼가 작은 빌을 들여보내다05  애벌레의 조언06  돼지와 후추 07  엉망진창 티파티 08  여왕의 크로케 경기장09  가짜 거북의 이야기 10  바닷가재의 카드리유11  누가 타르트를 훔쳤나12  앨리스의 증언 종이책 볼 시간 많이 없는데 한번은 정독 해보고 싶은 원작이었습니다. 그림이 정말 이쁘여 아이들이 조금 더 크면 아이들도 보겠어요 종이책 볼 시간 많이 없는데 한번은 정독 해보고 싶은 원작이었습니다. 그림이 정말 이쁘여 아이들이 조금 더 크면 아이들도 보겠어요'"
      ]
     },
     "execution_count": 98,
     "metadata": {},
     "output_type": "execute_result"
    }
   ],
   "source": [
    "df_book[df_book['title'] == \"이상한 나라의 앨리스\"].loc[53]['corpus']"
   ]
  },
  {
   "cell_type": "code",
   "execution_count": 99,
   "metadata": {
    "slideshow": {
     "slide_type": "slide"
    }
   },
   "outputs": [],
   "source": [
    "result = corpus_recommendation(\"이상한 나라의 앨리스\")"
   ]
  },
  {
   "cell_type": "code",
   "execution_count": 74,
   "metadata": {},
   "outputs": [
    {
     "data": {
      "text/html": [
       "<div>\n",
       "<style scoped>\n",
       "    .dataframe tbody tr th:only-of-type {\n",
       "        vertical-align: middle;\n",
       "    }\n",
       "\n",
       "    .dataframe tbody tr th {\n",
       "        vertical-align: top;\n",
       "    }\n",
       "\n",
       "    .dataframe thead th {\n",
       "        text-align: right;\n",
       "    }\n",
       "</style>\n",
       "<table border=\"1\" class=\"dataframe\">\n",
       "  <thead>\n",
       "    <tr style=\"text-align: right;\">\n",
       "      <th></th>\n",
       "      <th>label</th>\n",
       "      <th>code</th>\n",
       "      <th>title</th>\n",
       "      <th>corpus</th>\n",
       "    </tr>\n",
       "  </thead>\n",
       "  <tbody>\n",
       "    <tr>\n",
       "      <td>60</td>\n",
       "      <td>2</td>\n",
       "      <td>30027</td>\n",
       "      <td>환상적인 아테네 여신의 도시 야경 투어</td>\n",
       "      <td>도시친구Sh</td>\n",
       "    </tr>\n",
       "    <tr>\n",
       "      <td>195</td>\n",
       "      <td>2</td>\n",
       "      <td>24314</td>\n",
       "      <td>[인기베스트][스냅샷&amp;인문학 야경 VIP벤츠투어][무료샌딩][사진작가]::헝가리/부...</td>\n",
       "      <td>도시친구Sh</td>\n",
       "    </tr>\n",
       "    <tr>\n",
       "      <td>196</td>\n",
       "      <td>2</td>\n",
       "      <td>24314</td>\n",
       "      <td>[인기베스트][스냅샷&amp;인문학 야경 VIP벤츠투어][무료샌딩][사진작가]::헝가리/부...</td>\n",
       "      <td>도시친구Sh</td>\n",
       "    </tr>\n",
       "    <tr>\n",
       "      <td>0</td>\n",
       "      <td>2</td>\n",
       "      <td>2122</td>\n",
       "      <td>국립박물관과 고흐 미술관  대표작 설명</td>\n",
       "      <td>도시혼자Ar</td>\n",
       "    </tr>\n",
       "    <tr>\n",
       "      <td>1</td>\n",
       "      <td>2</td>\n",
       "      <td>1474</td>\n",
       "      <td>암스테르담 시내 워킹투어</td>\n",
       "      <td>도시혼자Ex</td>\n",
       "    </tr>\n",
       "    <tr>\n",
       "      <td>2</td>\n",
       "      <td>2</td>\n",
       "      <td>34700</td>\n",
       "      <td>네덜란드 암스테르담 시내  실속 워킹투어</td>\n",
       "      <td>도시허니문Ar</td>\n",
       "    </tr>\n",
       "  </tbody>\n",
       "</table>\n",
       "</div>"
      ],
      "text/plain": [
       "     label   code                                              title   corpus\n",
       "60       2  30027                              환상적인 아테네 여신의 도시 야경 투어   도시친구Sh\n",
       "195      2  24314  [인기베스트][스냅샷&인문학 야경 VIP벤츠투어][무료샌딩][사진작가]::헝가리/부...   도시친구Sh\n",
       "196      2  24314  [인기베스트][스냅샷&인문학 야경 VIP벤츠투어][무료샌딩][사진작가]::헝가리/부...   도시친구Sh\n",
       "0        2   2122                              국립박물관과 고흐 미술관  대표작 설명   도시혼자Ar\n",
       "1        2   1474                                      암스테르담 시내 워킹투어   도시혼자Ex\n",
       "2        2  34700                            네덜란드 암스테르담 시내  실속 워킹투어   도시허니문Ar"
      ]
     },
     "execution_count": 74,
     "metadata": {},
     "output_type": "execute_result"
    }
   ],
   "source": [
    "result[result['label'] == 2][0:6]"
   ]
  },
  {
   "cell_type": "code",
   "execution_count": 80,
   "metadata": {
    "slideshow": {
     "slide_type": "slide"
    }
   },
   "outputs": [
    {
     "data": {
      "text/plain": [
       "'지중해 태양 빛이 사라짐과 동시에 고대도시 아테네는 신비한 자태를 드러내기 시작한다. 특히 한여름에는 기온이 너무 높기 때문에 지중해 지역 밤 문화를 즐기며 고대 도시를 걸어 보는 낭만을 놓쳐서는 안 된다. 석양이 지면서 차례로 켜지는 조명에 의해 드러나는 아크로폴리스 위에 있는 나이키 신전, 프로필레아, 피나코씨끼, 파르테논 신전, 에릭씨온 신전은 신비롭게 짝이 없다. 아크로폴리스와 아테네 시내가 한눈에 보이는 루프가든에서 그리스 냉커피인 프라페나 토종 미쏘스 맥주를 한잔하면 모든 피로와 더위를 한 방에 날려 버릴 수 있다.'"
      ]
     },
     "execution_count": 80,
     "metadata": {},
     "output_type": "execute_result"
    }
   ],
   "source": [
    "### <환상적인 아테네 여신의 도시 야경 투어> :  도시, 친구, Sh (여행정보)\n",
    "### https://www.myrealtrip.com/offers/30027\n",
    "\n",
    "activity[activity['code'] == 30027].loc[66]['intro']"
   ]
  },
  {
   "cell_type": "code",
   "execution_count": 81,
   "metadata": {},
   "outputs": [
    {
     "data": {
      "text/plain": [
       "'비수기라 소수로 차량이용해서 다녀서 편하고 빠르게 구경할 수 있어서 좋앗습니다. 아크로폴리스 둘래길돌면서 설명도 잘 해주시고.사진찍는거 다 기다려주시고 정말 신전만 몇 개 보고 갈 줄 알았더니 여러곳 많이 가서 좋았습니다.. 아테네 여행 4일차인가에 했는데 투어했을 때가 제일 재밌었어요ㅋㅋ 추천!!!!! 차량을 이용하여 보다 수월하게 투어할 수 있었습니다 사진도 잘 찍어주시고 일정도 유동적으로 친절히 잘 조절해 주셨어요 ^^'"
      ]
     },
     "execution_count": 81,
     "metadata": {},
     "output_type": "execute_result"
    }
   ],
   "source": [
    "### <환상적인 아테네 여신의 도시 야경 투어> : 도시, 친구, Sh (리뷰)\n",
    "activity[activity['code'] == 30027].loc[66]['review']"
   ]
  },
  {
   "cell_type": "markdown",
   "metadata": {},
   "source": [
    "#### 테스트 3 : 오늘 밤은 굶고 자야지 (도시에서 다이어터로 사는 이야기)"
   ]
  },
  {
   "cell_type": "code",
   "execution_count": 121,
   "metadata": {},
   "outputs": [],
   "source": [
    "result = corpus_recommendation(\"오늘 밤은 굶고 자야지\")"
   ]
  },
  {
   "cell_type": "code",
   "execution_count": 122,
   "metadata": {},
   "outputs": [
    {
     "data": {
      "text/html": [
       "<div>\n",
       "<style scoped>\n",
       "    .dataframe tbody tr th:only-of-type {\n",
       "        vertical-align: middle;\n",
       "    }\n",
       "\n",
       "    .dataframe tbody tr th {\n",
       "        vertical-align: top;\n",
       "    }\n",
       "\n",
       "    .dataframe thead th {\n",
       "        text-align: right;\n",
       "    }\n",
       "</style>\n",
       "<table border=\"1\" class=\"dataframe\">\n",
       "  <thead>\n",
       "    <tr style=\"text-align: right;\">\n",
       "      <th></th>\n",
       "      <th>label</th>\n",
       "      <th>code</th>\n",
       "      <th>title</th>\n",
       "      <th>corpus</th>\n",
       "    </tr>\n",
       "  </thead>\n",
       "  <tbody>\n",
       "    <tr>\n",
       "      <td>20</td>\n",
       "      <td>2</td>\n",
       "      <td>3554</td>\n",
       "      <td>브뤼셀 워킹투어 (시티투어+와플가게+현지맛집 추천+벨기에맥주 소개)</td>\n",
       "      <td>도시혼자Fo</td>\n",
       "    </tr>\n",
       "    <tr>\n",
       "      <td>22</td>\n",
       "      <td>2</td>\n",
       "      <td>5097</td>\n",
       "      <td>**브뤼셀** 벨기에 맥주 테이스팅 투어</td>\n",
       "      <td>도시혼자Fo</td>\n",
       "    </tr>\n",
       "    <tr>\n",
       "      <td>104</td>\n",
       "      <td>2</td>\n",
       "      <td>45262</td>\n",
       "      <td>리스본 미식워킹투어 (포르투갈/리스본)</td>\n",
       "      <td>도시혼자Fo</td>\n",
       "    </tr>\n",
       "    <tr>\n",
       "      <td>127</td>\n",
       "      <td>2</td>\n",
       "      <td>14458</td>\n",
       "      <td>빌니우스 : 여행하는 미식가들을 위한 3시간 미식 탐험!</td>\n",
       "      <td>도시혼자Fo</td>\n",
       "    </tr>\n",
       "    <tr>\n",
       "      <td>147</td>\n",
       "      <td>2</td>\n",
       "      <td>52198</td>\n",
       "      <td>[투어] 키예프 테이스티 투어 :: 우크라이나/키예프</td>\n",
       "      <td>도시혼자Fo</td>\n",
       "    </tr>\n",
       "    <tr>\n",
       "      <td>0</td>\n",
       "      <td>2</td>\n",
       "      <td>2122</td>\n",
       "      <td>국립박물관과 고흐 미술관  대표작 설명</td>\n",
       "      <td>도시혼자Ar</td>\n",
       "    </tr>\n",
       "  </tbody>\n",
       "</table>\n",
       "</div>"
      ],
      "text/plain": [
       "     label   code                                  title  corpus\n",
       "20       2   3554  브뤼셀 워킹투어 (시티투어+와플가게+현지맛집 추천+벨기에맥주 소개)  도시혼자Fo\n",
       "22       2   5097                **브뤼셀** 벨기에 맥주 테이스팅 투어   도시혼자Fo\n",
       "104      2  45262                  리스본 미식워킹투어 (포르투갈/리스본)  도시혼자Fo\n",
       "127      2  14458        빌니우스 : 여행하는 미식가들을 위한 3시간 미식 탐험!  도시혼자Fo\n",
       "147      2  52198          [투어] 키예프 테이스티 투어 :: 우크라이나/키예프  도시혼자Fo\n",
       "0        2   2122                  국립박물관과 고흐 미술관  대표작 설명  도시혼자Ar"
      ]
     },
     "execution_count": 122,
     "metadata": {},
     "output_type": "execute_result"
    }
   ],
   "source": [
    "result[result['label'] == 2][0:6]"
   ]
  },
  {
   "cell_type": "markdown",
   "metadata": {},
   "source": [
    "#### 테스트 4 : 신경 끄기의 기술"
   ]
  },
  {
   "cell_type": "code",
   "execution_count": 130,
   "metadata": {},
   "outputs": [],
   "source": [
    "result = corpus_recommendation(\"신경 끄기의 기술\")"
   ]
  },
  {
   "cell_type": "code",
   "execution_count": 131,
   "metadata": {},
   "outputs": [
    {
     "data": {
      "text/html": [
       "<div>\n",
       "<style scoped>\n",
       "    .dataframe tbody tr th:only-of-type {\n",
       "        vertical-align: middle;\n",
       "    }\n",
       "\n",
       "    .dataframe tbody tr th {\n",
       "        vertical-align: top;\n",
       "    }\n",
       "\n",
       "    .dataframe thead th {\n",
       "        text-align: right;\n",
       "    }\n",
       "</style>\n",
       "<table border=\"1\" class=\"dataframe\">\n",
       "  <thead>\n",
       "    <tr style=\"text-align: right;\">\n",
       "      <th></th>\n",
       "      <th>label</th>\n",
       "      <th>code</th>\n",
       "      <th>title</th>\n",
       "      <th>corpus</th>\n",
       "    </tr>\n",
       "  </thead>\n",
       "  <tbody>\n",
       "    <tr>\n",
       "      <td>1</td>\n",
       "      <td>2</td>\n",
       "      <td>1474</td>\n",
       "      <td>암스테르담 시내 워킹투어</td>\n",
       "      <td>도시혼자Ex</td>\n",
       "    </tr>\n",
       "    <tr>\n",
       "      <td>12</td>\n",
       "      <td>2</td>\n",
       "      <td>50891</td>\n",
       "      <td>[니스 출발] 리베이라 최고를 찾아 떠나는 여행</td>\n",
       "      <td>도시혼자Ex</td>\n",
       "    </tr>\n",
       "    <tr>\n",
       "      <td>15</td>\n",
       "      <td>2</td>\n",
       "      <td>38847</td>\n",
       "      <td>니스에서 출발하는 에즈/모나코/몬테카를로 반일 투어</td>\n",
       "      <td>도시혼자Ex</td>\n",
       "    </tr>\n",
       "    <tr>\n",
       "      <td>36</td>\n",
       "      <td>2</td>\n",
       "      <td>27564</td>\n",
       "      <td>[세븐시스터즈+브라이튼]#런던1위#재미와 감동이 있는 소풍투어# 시즌특가 7만9천원</td>\n",
       "      <td>도시혼자Ex</td>\n",
       "    </tr>\n",
       "    <tr>\n",
       "      <td>58</td>\n",
       "      <td>2</td>\n",
       "      <td>37376</td>\n",
       "      <td>[당일발행] 파리 바토 파리지앵 E-티켓</td>\n",
       "      <td>도시혼자Ex</td>\n",
       "    </tr>\n",
       "    <tr>\n",
       "      <td>67</td>\n",
       "      <td>2</td>\n",
       "      <td>34416</td>\n",
       "      <td>몰타의 자매섬인 '고조섬(gozo)'에서의 원데이 투어</td>\n",
       "      <td>도시혼자Ex</td>\n",
       "    </tr>\n",
       "  </tbody>\n",
       "</table>\n",
       "</div>"
      ],
      "text/plain": [
       "    label   code                                           title  corpus\n",
       "1       2   1474                                   암스테르담 시내 워킹투어  도시혼자Ex\n",
       "12      2  50891                      [니스 출발] 리베이라 최고를 찾아 떠나는 여행  도시혼자Ex\n",
       "15      2  38847                    니스에서 출발하는 에즈/모나코/몬테카를로 반일 투어  도시혼자Ex\n",
       "36      2  27564  [세븐시스터즈+브라이튼]#런던1위#재미와 감동이 있는 소풍투어# 시즌특가 7만9천원  도시혼자Ex\n",
       "58      2  37376                          [당일발행] 파리 바토 파리지앵 E-티켓  도시혼자Ex\n",
       "67      2  34416                  몰타의 자매섬인 '고조섬(gozo)'에서의 원데이 투어  도시혼자Ex"
      ]
     },
     "execution_count": 131,
     "metadata": {},
     "output_type": "execute_result"
    }
   ],
   "source": [
    "result[result['label'] == 2][0:6]"
   ]
  },
  {
   "cell_type": "code",
   "execution_count": null,
   "metadata": {},
   "outputs": [],
   "source": []
  }
 ],
 "metadata": {
  "celltoolbar": "Slideshow",
  "kernelspec": {
   "display_name": "Python 3",
   "language": "python",
   "name": "python3"
  },
  "language_info": {
   "codemirror_mode": {
    "name": "ipython",
    "version": 3
   },
   "file_extension": ".py",
   "mimetype": "text/x-python",
   "name": "python",
   "nbconvert_exporter": "python",
   "pygments_lexer": "ipython3",
   "version": "3.7.4"
  }
 },
 "nbformat": 4,
 "nbformat_minor": 2
}
